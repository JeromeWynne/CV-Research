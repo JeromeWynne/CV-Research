{
 "cells": [
  {
   "cell_type": "markdown",
   "metadata": {},
   "source": [
    "# Gaussian Mixture Models"
   ]
  },
  {
   "cell_type": "markdown",
   "metadata": {},
   "source": [
    "This notebook fits a gaussian mixture model to univariate data using a hand-coded expectation maximization algorithm. It proceeds as follows:\n",
    "1. Read in the dataset.\n",
    "2. Select an appropriate variable to fit the model to.\n",
    "3. Define the number of components to be fit.\n",
    "4. Implement EM to fit the components.\n",
    "5. Display the resulting distribution, overlaid on the training data.\n",
    "6. Review and discussion of existing Python tools to simplify the procedure.\n",
    "\n",
    "We're going to be using data from the World Happiness Report (https://www.kaggle.com/unsdsn/world-happiness). 155 countries, 12 features."
   ]
  },
  {
   "cell_type": "code",
   "execution_count": 1,
   "metadata": {
    "collapsed": false
   },
   "outputs": [
    {
     "data": {
      "text/html": [
       "<div>\n",
       "<table border=\"1\" class=\"dataframe\">\n",
       "  <thead>\n",
       "    <tr style=\"text-align: right;\">\n",
       "      <th></th>\n",
       "      <th>Country</th>\n",
       "      <th>Happiness.Rank</th>\n",
       "      <th>Happiness.Score</th>\n",
       "      <th>Whisker.high</th>\n",
       "      <th>Whisker.low</th>\n",
       "      <th>Economy..GDP.per.Capita.</th>\n",
       "      <th>Family</th>\n",
       "      <th>Health..Life.Expectancy.</th>\n",
       "      <th>Freedom</th>\n",
       "      <th>Generosity</th>\n",
       "      <th>Trust..Government.Corruption.</th>\n",
       "      <th>Dystopia.Residual</th>\n",
       "    </tr>\n",
       "  </thead>\n",
       "  <tbody>\n",
       "    <tr>\n",
       "      <th>0</th>\n",
       "      <td>Norway</td>\n",
       "      <td>1</td>\n",
       "      <td>7.537</td>\n",
       "      <td>7.594445</td>\n",
       "      <td>7.479556</td>\n",
       "      <td>1.616463</td>\n",
       "      <td>1.533524</td>\n",
       "      <td>0.796667</td>\n",
       "      <td>0.635423</td>\n",
       "      <td>0.362012</td>\n",
       "      <td>0.315964</td>\n",
       "      <td>2.277027</td>\n",
       "    </tr>\n",
       "    <tr>\n",
       "      <th>1</th>\n",
       "      <td>Denmark</td>\n",
       "      <td>2</td>\n",
       "      <td>7.522</td>\n",
       "      <td>7.581728</td>\n",
       "      <td>7.462272</td>\n",
       "      <td>1.482383</td>\n",
       "      <td>1.551122</td>\n",
       "      <td>0.792566</td>\n",
       "      <td>0.626007</td>\n",
       "      <td>0.355280</td>\n",
       "      <td>0.400770</td>\n",
       "      <td>2.313707</td>\n",
       "    </tr>\n",
       "    <tr>\n",
       "      <th>2</th>\n",
       "      <td>Iceland</td>\n",
       "      <td>3</td>\n",
       "      <td>7.504</td>\n",
       "      <td>7.622030</td>\n",
       "      <td>7.385970</td>\n",
       "      <td>1.480633</td>\n",
       "      <td>1.610574</td>\n",
       "      <td>0.833552</td>\n",
       "      <td>0.627163</td>\n",
       "      <td>0.475540</td>\n",
       "      <td>0.153527</td>\n",
       "      <td>2.322715</td>\n",
       "    </tr>\n",
       "    <tr>\n",
       "      <th>3</th>\n",
       "      <td>Switzerland</td>\n",
       "      <td>4</td>\n",
       "      <td>7.494</td>\n",
       "      <td>7.561772</td>\n",
       "      <td>7.426227</td>\n",
       "      <td>1.564980</td>\n",
       "      <td>1.516912</td>\n",
       "      <td>0.858131</td>\n",
       "      <td>0.620071</td>\n",
       "      <td>0.290549</td>\n",
       "      <td>0.367007</td>\n",
       "      <td>2.276716</td>\n",
       "    </tr>\n",
       "    <tr>\n",
       "      <th>4</th>\n",
       "      <td>Finland</td>\n",
       "      <td>5</td>\n",
       "      <td>7.469</td>\n",
       "      <td>7.527542</td>\n",
       "      <td>7.410458</td>\n",
       "      <td>1.443572</td>\n",
       "      <td>1.540247</td>\n",
       "      <td>0.809158</td>\n",
       "      <td>0.617951</td>\n",
       "      <td>0.245483</td>\n",
       "      <td>0.382612</td>\n",
       "      <td>2.430182</td>\n",
       "    </tr>\n",
       "  </tbody>\n",
       "</table>\n",
       "</div>"
      ],
      "text/plain": [
       "       Country  Happiness.Rank  Happiness.Score  Whisker.high  Whisker.low  \\\n",
       "0       Norway               1            7.537      7.594445     7.479556   \n",
       "1      Denmark               2            7.522      7.581728     7.462272   \n",
       "2      Iceland               3            7.504      7.622030     7.385970   \n",
       "3  Switzerland               4            7.494      7.561772     7.426227   \n",
       "4      Finland               5            7.469      7.527542     7.410458   \n",
       "\n",
       "   Economy..GDP.per.Capita.    Family  Health..Life.Expectancy.   Freedom  \\\n",
       "0                  1.616463  1.533524                  0.796667  0.635423   \n",
       "1                  1.482383  1.551122                  0.792566  0.626007   \n",
       "2                  1.480633  1.610574                  0.833552  0.627163   \n",
       "3                  1.564980  1.516912                  0.858131  0.620071   \n",
       "4                  1.443572  1.540247                  0.809158  0.617951   \n",
       "\n",
       "   Generosity  Trust..Government.Corruption.  Dystopia.Residual  \n",
       "0    0.362012                       0.315964           2.277027  \n",
       "1    0.355280                       0.400770           2.313707  \n",
       "2    0.475540                       0.153527           2.322715  \n",
       "3    0.290549                       0.367007           2.276716  \n",
       "4    0.245483                       0.382612           2.430182  "
      ]
     },
     "execution_count": 1,
     "metadata": {},
     "output_type": "execute_result"
    }
   ],
   "source": [
    "import pandas as pd\n",
    "import numpy as np\n",
    "import matplotlib.pyplot as plt\n",
    "%matplotlib inline\n",
    "np.random.seed(1)\n",
    "\n",
    "happiness_data = pd.read_csv('.\\\\data\\\\world-happiness-report\\\\2017.csv')\n",
    "happiness_data.head()"
   ]
  },
  {
   "cell_type": "code",
   "execution_count": 2,
   "metadata": {
    "collapsed": false
   },
   "outputs": [
    {
     "data": {
      "image/png": "[encoded data removed]",
      "text/plain": [
       "<matplotlib.figure.Figure at 0x8986da0>"
      ]
     },
     "metadata": {},
     "output_type": "display_data"
    }
   ],
   "source": [
    "plt.figure(figsize = (7, 4))\n",
    "plt.hist(happiness_data['Trust..Government.Corruption.'], \n",
    "         bins = 15, normed = True, histtype = 'bar', rwidth = 0.8, color = 'orange');\n",
    "plt.xlabel('Government Corruption Index', fontsize = 12); plt.ylabel('Probability density', fontsize = 12);\n",
    "plt.title('Corruption Index Sample Frequencies', loc = 'left', fontweight = 'bold', fontsize = 14);"
   ]
  },
  {
   "cell_type": "code",
   "execution_count": 3,
   "metadata": {
    "collapsed": false
   },
   "outputs": [],
   "source": [
    "# Extract the column of corruption measurements\n",
    "x = happiness_data['Trust..Government.Corruption.'].as_matrix()\n",
    "\n",
    "# Define the number of gaussians to fit\n",
    "n_components = 2\n",
    "\n",
    "# Create parameter vectors for these gaussians\n",
    "    # Means of each component\n",
    "mu         = np.array([np.random.uniform(0, 1) for j in range(n_components)])\n",
    "    # Component weights (Must sum to 1)\n",
    "split_locs = sorted([np.random.uniform(0, 1) for j in range(n_components - 1)])\n",
    "lam        = np.array([split_locs[0]] + \n",
    "                      [(split_locs[j+1] - split_locs[j]) for j in range(0, n_components - 2)] + \n",
    "                      [1 - split_locs[-1]])\n",
    "    # Variances\n",
    "var        = np.array([np.random.uniform(1e-5, 0.1) for j in range(n_components)])"
   ]
  },
  {
   "cell_type": "code",
   "execution_count": 4,
   "metadata": {
    "collapsed": true
   },
   "outputs": [],
   "source": [
    "# Define a normal density function\n",
    "def dnorm(x, mu, var):\n",
    "    return np.exp(-(x - mu)**2 / (2*var)) / np.sqrt(2*np.pi*var)"
   ]
  },
  {
   "cell_type": "code",
   "execution_count": 5,
   "metadata": {
    "collapsed": true
   },
   "outputs": [],
   "source": [
    "def dMoG(x, mu, var, lam):\n",
    "    # Returns a probability density of x for given mixture of gaussians\n",
    "    # x is a scalar; {mu, var, lam} are vectors describing each univariate gaussian (lam are their weights)\n",
    "    x_pd = 0\n",
    "    for k in range(len(mu)):\n",
    "        x_pd = x_pd + dnorm(x, mu[k], var[k])*lam[k]\n",
    "    return x_pd"
   ]
  },
  {
   "cell_type": "code",
   "execution_count": 6,
   "metadata": {
    "collapsed": false
   },
   "outputs": [
    {
     "data": {
      "image/png": "[encoded data removed]",
      "text/plain": [
       "<matplotlib.figure.Figure at 0x8a385f8>"
      ]
     },
     "metadata": {},
     "output_type": "display_data"
    }
   ],
   "source": [
    "# Plot the initialization state of the distributions\n",
    "plt.figure(figsize = (7, 4))\n",
    "plt.hist(happiness_data['Trust..Government.Corruption.'], \n",
    "         bins = 15, normed = True, histtype = 'bar', rwidth = 0.8, color = 'orange');\n",
    "plt.xlabel('Government Corruption Index', fontsize = 12); plt.ylabel('Probability density', fontsize = 12);\n",
    "plt.title('Corruption Index Sample Frequencies', loc = 'left', fontweight = 'bold', fontsize = 14);\n",
    "plt.plot(np.arange(0, .5, 0.005), dMoG(np.arange(0, .5, 0.005), mu, var, lam), color = 'black');\n",
    "plt.savefig('Mog_unfit.pdf', dpi = 500)"
   ]
  },
  {
   "cell_type": "markdown",
   "metadata": {},
   "source": [
    "We can see that the initialized mixture of gaussians is a poor representation of the true frequency distribution: the model's parameters need to be fit. To do this we'll use the expectation maximization algorithm. Here the hidden variable takes on integer values indexing the normal distributions. \n",
    "The algorithm proceeds as:\n",
    "1. E-step: Raise the boundary w.r.t. the hidden variable's density function - update these functions according to the data and the parameters. This is posterior probability calculation:\n",
    "$$\n",
    "    q_i(h_i = k) = \\text{Pr}(h_i = k \\ | \\ x_i, \\theta^{[t]}) = \\frac{\\text{Norm}_{x_i}[\\mu_k, \\sigma^2_k] \\cdot \\lambda_k}{\\sum_{j = 1}^{K}\\text{Norm}_{x_i}[\\mu_j, \\sigma^2_j] \\cdot \\lambda_j} = r_{ik}\\\\[1.5em]\n",
    "$$\n",
    "Where $\\theta$ denotes the set of parameters $\\{\\mu, \\sigma^2, \\lambda\\}$. Evaluating this density function for a datapoint $x_i$ and a chosen distribution $k$ returns the probability that that distribution is responsible for the input datapoint.\n",
    "\n",
    "2. M-step: Maximize the boundary's value w.r.t. the model parameters $\\{\\mu, \\sigma^2, \\lambda\\}$. This can be done analytically for a mixture of gaussians according to the update rules:\n",
    "$$\n",
    "    \\lambda_k^{[t+1]} = \\frac{\\sum_{i=1}^{I}r_{ik}}{\\sum_{j=1}^{K}\\sum_{i = 1}^{I}r_{ij}} \\\\[1.5em]\n",
    "    \\mu_{k}^{[t+1]} = \\frac{\\sum_{i = 1}^{I}r_{ik}x_{i}}{\\sum_{i=1}^{I}r_{ik}} \\\\[1.5em]\n",
    "    {\\sigma^2}_{k}^{[t+1]} = \\frac{\\sum_{i=1}^{I}r_{ik}(x_i - \\mu_k^{[t+1]})^2}{\\sum_{i=1}^{I}r_{ik}}\n",
    "$$\n",
    "\n",
    "Where $I$ is the number of training examples, $K$ the number of gaussians being fit, $t$ the update iteration, and $r_{ik}$ is the posterior probability distribution of the hidden variable found during the preceding E-step.\n"
   ]
  },
  {
   "cell_type": "code",
   "execution_count": 7,
   "metadata": {
    "collapsed": true
   },
   "outputs": [],
   "source": [
    "def E_step(x, mu, var, lam):\n",
    "    # Returns an I x K matrix of responsibility values\n",
    "    # x is a length-I vector of observations; mu, var, lam are length-K vectors of parameters\n",
    "    # Iterate over observations\n",
    "    r = np.zeros([len(x), len(mu)])\n",
    "    for i in range(len(x)):\n",
    "        xi_unnorm_posterior = np.array([lam[k]*dnorm(x[i], mu[k], var[k]) for k in range(len(mu))])\n",
    "        xi_evidence = np.sum(xi_unnorm_posterior) # Length-k row vector\n",
    "        r[i, :] = xi_unnorm_posterior/xi_evidence\n",
    "    return r"
   ]
  },
  {
   "cell_type": "code",
   "execution_count": 8,
   "metadata": {
    "collapsed": false
   },
   "outputs": [],
   "source": [
    "def M_step(x, r, mu):\n",
    "    # Updates the parameters to maximize the boundary's value\n",
    "    lam = np.sum(r, axis = 0)/np.sum(r)\n",
    "    mu  = (np.matmul(x, r)).T/np.sum(r, axis = 0)\n",
    "    var = np.sum(r*np.array([(mu - x_i)**2 for x_i in x]), axis = 0)/np.sum(r, axis = 0)\n",
    "    return [mu, var, lam]"
   ]
  },
  {
   "cell_type": "code",
   "execution_count": 9,
   "metadata": {
    "collapsed": true
   },
   "outputs": [],
   "source": [
    "def compute_boundary(x, r, mu, var, lam):\n",
    "    bound = 0\n",
    "    for i in range(len(x)):\n",
    "        for k in range(len(lam)):\n",
    "            bound = bound + r[i,k]*np.log(lam[k]*dnorm(x[i], mu[k], var[k])/r[i, k])\n",
    "    return bound"
   ]
  },
  {
   "cell_type": "code",
   "execution_count": 10,
   "metadata": {
    "collapsed": false
   },
   "outputs": [],
   "source": [
    "# EM algorithm:\n",
    "# - Accepts a vector of observations and the initial mu, lambda, sigma^2 values for each gaussian\n",
    "# - Returns mu, lamda, sigma^2 values at convergence\n",
    "def fit_MoG(x, mu, var, lam):\n",
    "    bound = 1; upd_bound = 0;\n",
    "    while abs(bound - upd_bound) > 1e-5:\n",
    "        bound = upd_bound\n",
    "        r              = E_step(x, mu, var, lam)\n",
    "        [mu, var, lam] = M_step(x, r, mu)        # Returns parameters that maximize boundary value\n",
    "        upd_bound      = compute_boundary(x, r, mu, var, lam) # Returns value of boundary for given parameters\n",
    "    return [mu, var, lam]"
   ]
  },
  {
   "cell_type": "code",
   "execution_count": 11,
   "metadata": {
    "collapsed": false
   },
   "outputs": [],
   "source": [
    "[mu, var, lam] = fit_MoG(x, mu, var, lam)"
   ]
  },
  {
   "cell_type": "code",
   "execution_count": 12,
   "metadata": {
    "collapsed": false
   },
   "outputs": [
    {
     "data": {
      "image/png": "[encoded data removed]",
      "text/plain": [
       "<matplotlib.figure.Figure at 0x8aceba8>"
      ]
     },
     "metadata": {},
     "output_type": "display_data"
    }
   ],
   "source": [
    "plt.figure(figsize = (7, 4))\n",
    "plt.hist(happiness_data['Trust..Government.Corruption.'], \n",
    "         bins = 15, normed = True, histtype = 'bar', rwidth = 0.8, color = 'orange');\n",
    "plt.xlabel('Government Corruption Index', fontsize = 12); plt.ylabel('Probability density', fontsize = 12);\n",
    "plt.title('Corruption Index Sample Frequencies', loc = 'left', fontweight = 'bold', fontsize = 14);\n",
    "plt.plot(np.arange(0, .5, 0.001), dMoG(np.arange(0, .5, 0.001), mu, var, lam), color = 'black');\n",
    "plt.savefig('Mog_fit.pdf', dpi = 500)"
   ]
  }
 ],
 "metadata": {
  "anaconda-cloud": {},
  "kernelspec": {
   "display_name": "Python [Root]",
   "language": "python",
   "name": "Python [Root]"
  },
  "language_info": {
   "codemirror_mode": {
    "name": "ipython",
    "version": 3
   },
   "file_extension": ".py",
   "mimetype": "text/x-python",
   "name": "python",
   "nbconvert_exporter": "python",
   "pygments_lexer": "ipython3",
   "version": "3.5.2"
  }
 },
 "nbformat": 4,
 "nbformat_minor": 0
}
