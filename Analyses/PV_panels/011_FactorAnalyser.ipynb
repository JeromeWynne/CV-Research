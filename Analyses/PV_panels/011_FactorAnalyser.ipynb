{
 "cells": [
  {
   "cell_type": "code",
   "execution_count": 1,
   "metadata": {
    "collapsed": true
   },
   "outputs": [],
   "source": [
    "import tensorflow as tf"
   ]
  },
  {
   "cell_type": "code",
   "execution_count": null,
   "metadata": {
    "collapsed": true
   },
   "outputs": [],
   "source": [
    "# Assume that we are receiving a batch of 40x40 pixel patches\n",
    "# The associated set of labels indicates whether or not a patch contains a crack\n",
    "# These labels are one-hot encoded.\n",
    "\n",
    "patch_size  = 40\n",
    "input_size  = patch_size**2\n",
    "batch_size  = 32\n",
    "in_channels = 1\n",
    "\n",
    "graph = tf.Graph()\n",
    "\n",
    "with graph.as_default():\n",
    "    # Inputs\n",
    "    images = tf.placeholder(tf.float32, [batch_size, input_size, in_channels])\n",
    "    labels = tf.placeholder(tf.float32, [batch_size, 2])\n",
    "    \n",
    "    # Variables\n",
    "    mu    = tf.Variable(tf.truncated_normal(\n",
    "                            shape = []))\n",
    "    Sigma = \n",
    "    Phi   =\n",
    "    \n",
    "    Eh    =\n",
    "    Ehh   = "
   ]
  }
 ],
 "metadata": {
  "anaconda-cloud": {},
  "kernelspec": {
   "display_name": "Python [conda root]",
   "language": "python",
   "name": "conda-root-py"
  },
  "language_info": {
   "codemirror_mode": {
    "name": "ipython",
    "version": 3
   },
   "file_extension": ".py",
   "mimetype": "text/x-python",
   "name": "python",
   "nbconvert_exporter": "python",
   "pygments_lexer": "ipython3",
   "version": "3.5.3"
  }
 },
 "nbformat": 4,
 "nbformat_minor": 2
}
