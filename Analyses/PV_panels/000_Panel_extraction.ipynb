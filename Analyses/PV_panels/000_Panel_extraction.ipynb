{
 "cells": [
  {
   "cell_type": "markdown",
   "metadata": {},
   "source": [
    "#### The purpose of this notebook is to:\n",
    "    1. Import images of grids of solar panels from ./Data/170725_Panel_Grids_EL2.zip\n",
    "    2. Determine the grid's outer perimeter.\n",
    "    3. Deskew and center the grid.\n",
    "    4. Detect vertical and horizontal lagunas between the panels.\n",
    "    5. Use the results to crop and save each panel.\n",
    "    6. Save the results to a directory in ./Data, providing a unique identifier for each panel."
   ]
  },
  {
   "cell_type": "code",
   "execution_count": 1,
   "metadata": {
    "collapsed": true
   },
   "outputs": [],
   "source": [
    "from zipfile import ZipFile\n",
    "import numpy as np\n",
    "from PIL import Image\n",
    "from matplotlib import pyplot as plt\n",
    "%matplotlib inline"
   ]
  },
  {
   "cell_type": "markdown",
   "metadata": {},
   "source": [
    "##### 1. Import panel grid."
   ]
  },
  {
   "cell_type": "code",
   "execution_count": 171,
   "metadata": {
    "collapsed": true
   },
   "outputs": [],
   "source": [
    "# Hough transform\n",
    "# Define a range of angles, radii\n",
    "# For each angle, define a vector (cos(theta), sin(theta))\n",
    "\n",
    "# Iterate over image. At each pixel;\n",
    "#   > Form a vector (x, y)\n",
    "#   > Take the dot product of this vector with all angles. (Result is point projection distance from center)\n",
    "#   > Add to bins\n",
    "\n",
    "# We can do the above simultaneously:\n",
    "#  > Form a matrix C of coordinates (x, y) for all pixels.\n",
    "#  > Let the Hough vector be u = (cos(theta), sin(theta)).\n",
    "#  > Drop all zero pixels to form C'.\n",
    "#  > Compute C'u = r, where r is a vector of project distances from the origin\n",
    "\n",
    "# We can generalize the above further by letting U = [u1, u2, ..., un] where n is the number of angular bins.\n",
    "# Then: C'U = R, such that R = [r1, r2, ..., rn] where ri is a vector of projection distances at angle i.\n",
    "\n",
    "def my_hough_transform(binary_image, angle_bins, radii_bins):\n",
    "    \"\"\"\n",
    "        angles in angle_bins are in radians\n",
    "        radii in radii bins are in normalized coordinates [0, 1]\n",
    "    \"\"\"\n",
    "    # Define basis vectors at defined angular spacing\n",
    "    U = np.array([np.cos(angle_bins), np.sin(angle_bins)])\n",
    "    # ^ Columns are u1, ..., where ui = (cos(theta_i), sin(theta_i))\n",
    "    \n",
    "    # Get cartesian position of non-zero image elements\n",
    "    C       = np.array(np.nonzero(binary_image), dtype=np.float32) # i, j indices\n",
    "    max_mag = 0.5*np.sqrt(binary_image.shape[0]**2 + binary_image.shape[1]**2) # Magnitude of largest vector\n",
    "    C[0, :] = (binary_image.shape[0]/2 - C[0, :])/max_mag # Normalized y coordinates, [-1, 1]\n",
    "    C[1, :] = (binary_image.shape[1]/2 - C[1, :])/max_mag # Normalized x coordinates\n",
    "    C       = np.flip(C, axis = 0) # (y, x) -> (x, y)\n",
    "    \n",
    "    # Project the non-zero elements onto the basis vectors\n",
    "    R = np.matmul(C.T, U) # R = [r1, ..., rn] where ri is a vector of projection distances at angle i\n",
    "    \n",
    "    # Bin the values in R's columns at the specfied radii\n",
    "#     H = np.zeros(shape = [radii_bins.shape[0], angle_bins.shape[0]]) # Columns correspond to angles, rows to specfied radii\n",
    "#     for j, radial_distances_vector in enumerate(R.T):\n",
    "#         H[:, j] = np.histogram(radial_distances_vector, bins = radii_bins) # Need to drop topmost/bottommost?\n",
    "    \n",
    "    H = R\n",
    "    \n",
    "    # Return the Hough matrix\n",
    "    return H, radii_bins, angle_bins"
   ]
  },
  {
   "cell_type": "code",
   "execution_count": 172,
   "metadata": {
    "collapsed": true
   },
   "outputs": [],
   "source": [
    "def display_image(img):\n",
    "    \"\"\"\n",
    "    Plots a single image, without axes.\n",
    "    \n",
    "    Arguments\n",
    "        img is a 2D np.float32 array\n",
    "    \"\"\"\n",
    "    plt.figure(figsize = (15, 7))\n",
    "    plt.imshow(img.T, cmap = 'gray');\n",
    "    plt.axis('off');"
   ]
  },
  {
   "cell_type": "code",
   "execution_count": 176,
   "metadata": {
    "collapsed": true
   },
   "outputs": [],
   "source": [
    "def deskew_and_center(image):\n",
    "    \"\"\"\n",
    "    Deskews and centers a grid of solar panel images.\n",
    "    \n",
    "    1. Inverts and thresholds image.\n",
    "    2. Determines suitable parameters for a Hough transform. (distance from edge, range of angles)\n",
    "    3. Applies the Hough transform in each direction (N, E, S, W).\n",
    "    4. Identifies the angle + radial distance that yield a peak.\n",
    "    5. Aligns the image frame's and grid rectangle's centers.\n",
    "    6. Rotates the grid.\n",
    "    \n",
    "    Sub-functions:\n",
    "    \n",
    "    Arguments:\n",
    "        img is a 2D np.float32 array of a grid of solar panels\n",
    "    \"\"\"\n",
    "    \n",
    "    # 1. Invert and threshold the image.\n",
    "    THRESHOLD = 150\n",
    "    image = 255. - image\n",
    "    image = (image > THRESHOLD).astype(np.float32)\n",
    "    \n",
    "    # 2. Determine suitable parameters for a Hough transform.\n",
    "    if image.shape[0] > image.shape[1]:\n",
    "        image = image.T\n",
    "    angle_bins = np.arange(0, np.pi, 0.1*np.pi) # 10 bins\n",
    "    radii_bins  = np.arange(0.95, 1, 0.01) # 6 bins\n",
    "    H, r, th  = my_hough_transform(image, angle_bins, radii_bins)\n",
    "    \n",
    "    display_image(image)\n",
    "    \n",
    "    return H, r, th"
   ]
  },
  {
   "cell_type": "code",
   "execution_count": 178,
   "metadata": {},
   "outputs": [
    {
     "data": {
      "image/png": "[encoded data removed]",
      "text/plain": [
       "<matplotlib.figure.Figure at 0xa2df278>"
      ]
     },
     "metadata": {},
     "output_type": "display_data"
    }
   ],
   "source": [
    "_ = True\n",
    "with ZipFile('./Data/170725_Panel_Grids_EL2.zip', mode = 'r') as grid_archive:\n",
    "    for filename in grid_archive.infolist():\n",
    "        with grid_archive.open(filename) as file:\n",
    "            img = Image.open(file).convert('L')\n",
    "            img = np.array(img.getdata()).reshape(img.size[1], img.size[0]).astype(np.float32)\n",
    "            \n",
    "            # Display a demo image on the first iteration\n",
    "            if _ == True:\n",
    "                _ == False\n",
    "                \n",
    "            # Determine the grid's outer perimeter\n",
    "            H, r, th = deskew_and_center(img)\n",
    "            \n",
    "        break"
   ]
  },
  {
   "cell_type": "markdown",
   "metadata": {},
   "source": [
    "How does the image's size relate to the position of its border?\n",
    "Width-way: border is between 1/12th and 1/1000th of a panel in from the border\n",
    "Height-way: border is between 1/24th and 1/1000th of a panel in from the border"
   ]
  }
 ],
 "metadata": {
  "anaconda-cloud": {},
  "kernelspec": {
   "display_name": "Python 3",
   "language": "python",
   "name": "python3"
  },
  "language_info": {
   "codemirror_mode": {
    "name": "ipython",
    "version": 3
   },
   "file_extension": ".py",
   "mimetype": "text/x-python",
   "name": "python",
   "nbconvert_exporter": "python",
   "pygments_lexer": "ipython3",
   "version": "3.5.3"
  }
 },
 "nbformat": 4,
 "nbformat_minor": 2
}
