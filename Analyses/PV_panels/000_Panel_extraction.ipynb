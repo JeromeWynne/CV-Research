{
 "cells": [
  {
   "cell_type": "markdown",
   "metadata": {},
   "source": [
    "#### The purpose of this notebook is to:\n",
    "    1. Import images of grids of solar panels from ./Data/170725_Panel_Grids_EL2.zip\n",
    "    2. Determine the grid's outer perimeter.\n",
    "    3. Deskew and center the grid.\n",
    "    4. Detect vertical and horizontal lagunas between the panels.\n",
    "    5. Use the results to crop and save each panel.\n",
    "    6. Save the results to a directory in ./Data, providing a unique identifier for each panel."
   ]
  },
  {
   "cell_type": "code",
   "execution_count": 1,
   "metadata": {
    "collapsed": true
   },
   "outputs": [],
   "source": [
    "from zipfile import ZipFile\n",
    "import numpy as np\n",
    "from PIL import Image\n",
    "from matplotlib import pyplot as plt\n",
    "%matplotlib inline"
   ]
  },
  {
   "cell_type": "markdown",
   "metadata": {},
   "source": [
    "##### 1. Import panel grid."
   ]
  },
  {
   "cell_type": "code",
   "execution_count": 32,
   "metadata": {},
   "outputs": [],
   "source": [
    "# Hough transform\n",
    "# Define a range of angles, radii\n",
    "# For each angle, define a vector (cos(theta), sin(theta))\n",
    "\n",
    "# Iterate over image. At each pixel;\n",
    "#   > Form a vector (x, y)\n",
    "#   > Take the dot product of this vector with all angles. (Result is point projection distance from center)\n",
    "#   > Add to bins\n",
    "\n",
    "# We can do the above simultaneously:\n",
    "#  > Form a matrix C of coordinates (x, y) for all pixels.\n",
    "#  > Let the Hough vector be u = (cos(theta), sin(theta)).\n",
    "#  > Drop all zero pixels to form C'.\n",
    "#  > Compute C'u = r, where r is a vector of project distances from the origin\n",
    "\n",
    "# We can generalize the above further by letting U = [u1, u2, ..., un] where n is the number of angular bins.\n",
    "# Then: C'U = R, such that R = [r1, r2, ..., rn] where ri is a vector of projection distances at angle i.\n",
    "\n",
    "class HoughTransform(object):\n",
    "    def __init__(self, angles, radii_bins):\n",
    "        self.angles = angles\n",
    "        self.radii_bins  = radii_bins\n",
    "        self.H = None\n",
    "    \n",
    "    def transform(self, binary_image):\n",
    "        \"\"\"\n",
    "            angles in angle_bins are in radians\n",
    "            radii in radii bins are in image coordinates (origin at center of image frame)\n",
    "\n",
    "            Configures HoughTransform's 'H' attribute.\n",
    "            Configures HoughTransform's 'magnitude' attribute.\n",
    "        \"\"\"\n",
    "        # Define basis vectors at defined angular spacing\n",
    "        U = np.array([np.cos(self.angles), np.sin(self.angles)])\n",
    "        # ^ Columns are u1, ..., where ui = (cos(theta_i), sin(theta_i))\n",
    "\n",
    "        # Get cartesian position of non-zero image elements\n",
    "        C       = np.array(np.nonzero(binary_image), dtype=np.float32) # i, j indices\n",
    "        C[0, :] = (binary_image.shape[0]/2 - C[0, :])\n",
    "        C[1, :] = (binary_image.shape[1]/2 - C[1, :])\n",
    "        C       = np.flip(C, axis = 0) # (y, x) -> (x, y)\n",
    "\n",
    "        # Project the non-zero elements onto the basis vectors\n",
    "        R = np.matmul(C.T, U) # R = [r1, ..., rn] where ri is a vector of projection distances at angle i\n",
    "\n",
    "        # Bin the values in R's columns at the specfied radii\n",
    "        self.H = np.zeros(shape = [self.radii_bins.shape[0],\n",
    "                                   self.angles.shape[0]]) # Columns correspond to angles, rows to specfied radii\n",
    "        for i, radius_i in enumerate(self.radii_bins[:-1]):\n",
    "                self.H[i, :] = np.sum(np.logical_and(R >= radius_i,\n",
    "                                                     R < self.radii_bins[i+1]), axis = 0)\n",
    "        \n",
    "        # Get radius, angle of strongest response\n",
    "        peak_ix          = np.nonzero(self.H == np.max(self.H))\n",
    "        self.peak_angle  = self.angles[peak_ix[1][0]]\n",
    "        self.peak_radius = self.radii_bins[peak_ix[0][0]]"
   ]
  },
  {
   "cell_type": "code",
   "execution_count": 34,
   "metadata": {
    "collapsed": true
   },
   "outputs": [],
   "source": [
    "def display_image(img):\n",
    "    \"\"\"\n",
    "    Plots a single image, without axes.\n",
    "    \n",
    "    Arguments\n",
    "        img is a 2D np.float32 array\n",
    "    \"\"\"\n",
    "    plt.figure(figsize = (15, 7))\n",
    "    plt.imshow(img, cmap = 'gray');"
   ]
  },
  {
   "cell_type": "code",
   "execution_count": 129,
   "metadata": {
    "collapsed": true
   },
   "outputs": [],
   "source": [
    "def deskew_and_center(image):\n",
    "    \"\"\"\n",
    "    Deskews and centers a grid of solar panel images.\n",
    "    \n",
    "    1. Inverts and thresholds image.\n",
    "    2. Determines suitable parameters for a Hough transform. (distance from edge, range of angles)\n",
    "    3. Applies the Hough transform in each direction (N, E, S, W).\n",
    "    4. Identifies the angle + radial distance that yield a peak.\n",
    "    5. Aligns the image frame's and grid rectangle's centers.\n",
    "    6. Rotates the grid.\n",
    "    \n",
    "    Sub-functions:\n",
    "    \n",
    "    Arguments:\n",
    "        img is a 2D np.float32 array of a grid of solar panels\n",
    "    \"\"\"\n",
    "    \n",
    "    # 1. Invert and threshold the image.\n",
    "    THRESHOLD = 130\n",
    "    image = 255. - image\n",
    "    image = (image > THRESHOLD).astype(np.float32)\n",
    "    \n",
    "    # 2. Determine suitable parameters for a Hough transform.\n",
    "    if image.shape[0] < image.shape[1]:\n",
    "        image = image.T\n",
    "    \n",
    "    # 3. Perform Hough transform\n",
    "    edge_parameters = {'N':[], 'E':[], 'S':[], 'W':[]}\n",
    "    OFFSET          = {'N':[np.pi/2,  0.5*23*image.shape[0]/24, 0.5*image.shape[0]],\n",
    "                       'E':[0,        0.5*11*image.shape[1]/12, 0.5*image.shape[1]],\n",
    "                       'S':[-np.pi/2, 0.5*23*image.shape[0]/24, 0.5*image.shape[0]],\n",
    "                       'W':[np.pi,    0.5*11*image.shape[1]/12, 0.5*image.shape[1]]}\n",
    "    # ^ Angular offset, radii lower bound, radii upper bound\n",
    "    ANGLE_RNG  = np.pi/20      # Max angle amplitude\n",
    "    ANGLE_RES  = 0.2*ANGLE_RNG # Angular resolution\n",
    "    \n",
    "    for edge_key in edge_parameters.keys():\n",
    "        angles     = np.arange(-ANGLE_RNG + OFFSET[edge_key][0], ANGLE_RNG + OFFSET[edge_key][0], ANGLE_RES)\n",
    "        radii_bins = np.arange(OFFSET[edge_key][1], OFFSET[edge_key][2], 1)\n",
    "        ht         = HoughTransform(angles, radii_bins)\n",
    "        ht.transform(image)\n",
    "        edge_parameters[edge_key] = (ht.peak_angle, ht.peak_radius)\n",
    "    \n",
    "    return edge_parameters"
   ]
  },
  {
   "cell_type": "code",
   "execution_count": 130,
   "metadata": {},
   "outputs": [],
   "source": [
    "_ = True\n",
    "with ZipFile('./Data/170725_Panel_Grids_EL2.zip', mode = 'r') as grid_archive:\n",
    "    for filename in grid_archive.infolist():\n",
    "        with grid_archive.open(filename) as file:\n",
    "            img = Image.open(file).convert('L')\n",
    "            img = np.array(img.getdata()).reshape(img.size[1], img.size[0]).astype(np.float32)\n",
    "            \n",
    "            # Display a demo image on the first iteration\n",
    "            if _ == True:\n",
    "                _ == False\n",
    "                \n",
    "            # Determine the grid's outer perimeter\n",
    "            ep = deskew_and_center(img)\n",
    "            \n",
    "        break"
   ]
  },
  {
   "cell_type": "code",
   "execution_count": 131,
   "metadata": {},
   "outputs": [
    {
     "data": {
      "text/plain": [
       "{'E': (-5.5511151231257827e-17, 563.75),\n",
       " 'N': (1.5707963267948968, 938.58333333333337),\n",
       " 'S': (-1.5707963267948963, 922.58333333333337),\n",
       " 'W': (3.1415926535897922, 559.75)}"
      ]
     },
     "execution_count": 131,
     "metadata": {},
     "output_type": "execute_result"
    }
   ],
   "source": [
    "ep"
   ]
  },
  {
   "cell_type": "code",
   "execution_count": 132,
   "metadata": {},
   "outputs": [
    {
     "data": {
      "image/png": "[encoded data removed]",
      "text/plain": [
       "<matplotlib.figure.Figure at 0xcb7bf98>"
      ]
     },
     "metadata": {},
     "output_type": "display_data"
    }
   ],
   "source": [
    "plt.figure(figsize = (5, 5))\n",
    "img[img.shape[0]//2 - int(ep['N'][1]), :] = 0.5\n",
    "img[img.shape[0]//2 + int(ep['S'][1]), :] = 0.5\n",
    "img[:, img.shape[1]//2 - int(ep['E'][1])] = 0.5\n",
    "img[:, img.shape[1]//2 + int(ep['W'][1])] = 0.5\n",
    "plt.imshow(img[:100, :100], cmap = 'gray');"
   ]
  },
  {
   "cell_type": "markdown",
   "metadata": {},
   "source": [
    "How does the image's size relate to the position of its border?\n",
    "\n",
    "Width-way: border is between 1/12th and 1/1000th of a panel in from the border\n",
    "\n",
    "Height-way: border is between 1/24th and 1/1000th of a panel in from the border"
   ]
  }
 ],
 "metadata": {
  "anaconda-cloud": {},
  "kernelspec": {
   "display_name": "Python 3",
   "language": "python",
   "name": "python3"
  },
  "language_info": {
   "codemirror_mode": {
    "name": "ipython",
    "version": 3
   },
   "file_extension": ".py",
   "mimetype": "text/x-python",
   "name": "python",
   "nbconvert_exporter": "python",
   "pygments_lexer": "ipython3",
   "version": "3.5.3"
  }
 },
 "nbformat": 4,
 "nbformat_minor": 2
}
