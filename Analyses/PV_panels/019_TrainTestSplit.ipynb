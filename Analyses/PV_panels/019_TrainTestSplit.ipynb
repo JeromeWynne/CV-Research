{
 "cells": [
  {
   "cell_type": "markdown",
   "metadata": {},
   "source": [
    "This notebook:\n",
    "    - Imports an image and its associated mask.\n",
    "    - Resizes both to 185 x 185.\n",
    "    - Creates skeletonized masks for the panel images.\n",
    "    - Performs a stratified 80:20 split of all available images.\n",
    "        > 80% is available for training.\n",
    "        > 20% is to be used for validation.\n",
    "    - Saves them locally."
   ]
  },
  {
   "cell_type": "code",
   "execution_count": 1,
   "metadata": {
    "collapsed": true
   },
   "outputs": [],
   "source": [
    "from skimage.morphology import skeletonize_3d\n",
    "from skimage.transform import resize\n",
    "from matplotlib import pyplot as plt\n",
    "from scipy.misc import imread, imsave\n",
    "from shutil import rmtree\n",
    "from glob import glob\n",
    "from tqdm import tqdm\n",
    "from os import mkdir\n",
    "import numpy as np\n",
    "\n",
    "%matplotlib inline\n",
    "\n",
    "np.random.seed(42)"
   ]
  },
  {
   "cell_type": "code",
   "execution_count": 2,
   "metadata": {},
   "outputs": [],
   "source": [
    "IMAGE_SIZE = 185\n",
    "\n",
    "global_dir  = './Data/170820_Panel_Solos_Sorted_NoDuplicates'\n",
    "\n",
    "data_dir = { 'cracked_images'    : global_dir + '/Cracked/',\n",
    "             'cracked_annotated' : global_dir + '/CrackedAnnotated/',\n",
    "             'uncracked_images'  : global_dir + '/Uncracked/' }\n",
    "\n",
    "filepaths = { 'cracked_images'    : glob(data_dir['cracked_images']    + \"*.png\"),\n",
    "              'cracked_annotated' : glob(data_dir['cracked_annotated'] + \"*.png\"),\n",
    "              'uncracked_images'  : glob(data_dir['uncracked_images']  + \"*.png\") }"
   ]
  },
  {
   "cell_type": "markdown",
   "metadata": {},
   "source": [
    "### Write cracked panels"
   ]
  },
  {
   "cell_type": "code",
   "execution_count": 3,
   "metadata": {},
   "outputs": [
    {
     "name": "stderr",
     "output_type": "stream",
     "text": [
      "  0%|                                                  | 0/911 [00:00<?, ?it/s]C:\\Users\\admin\\Anaconda3\\lib\\site-packages\\skimage\\transform\\_warps.py:84: UserWarning: The default mode, 'constant', will be changed to 'reflect' in skimage 0.15.\n",
      "  warn(\"The default mode, 'constant', will be changed to 'reflect' in \"\n",
      "C:\\Users\\admin\\Anaconda3\\lib\\site-packages\\skimage\\util\\dtype.py:122: UserWarning: Possible precision loss when converting from float64 to uint8\n",
      "  .format(dtypeobj_in, dtypeobj_out))\n",
      "100%|████████████████████████████████████████| 911/911 [00:19<00:00, 47.71it/s]\n"
     ]
    }
   ],
   "source": [
    "counter = 0\n",
    "\n",
    "# Empty any existing directory contents\n",
    "for s in ['./Data/170822_Panels/training/images/',\n",
    "          './Data/170822_Panels/validation/images/',\n",
    "          './Data/170822_Panels/training/masks/', \n",
    "          './Data/170822_Panels/validation/masks/']:\n",
    "    rmtree(s)\n",
    "    mkdir(s)\n",
    "\n",
    "# Write the cracked panels to the folders\n",
    "for fp in tqdm(filepaths['cracked_images']):\n",
    "    image_name = fp.split('\\\\')[-1]\n",
    "    image      = imread(fp, mode = 'RGB')\n",
    "\n",
    "    try:\n",
    "        annotation = imread(data_dir['cracked_annotated'] + image_name)\n",
    "        mask       = np.logical_and(annotation[:, :, 0] == 255,\n",
    "                                    annotation[:, :, 1] == 0)\n",
    "\n",
    "        mask = resize(mask, [185, 185], order = 0)  # Nearest-neighbor interpolation\n",
    "        mask = skeletonize_3d(mask)\n",
    "        image = resize(image, [185, 185], order = 0)\n",
    "        \n",
    "        # Randomly assign to training/validation folder\n",
    "        if np.random.rand() > 0.2:\n",
    "            imsave('./Data/170822_Panels/training/images/' + image_name, image)\n",
    "            imsave('./Data/170822_Panels/training/masks/' + image_name, mask)\n",
    "        else:\n",
    "            imsave('./Data/170822_Panels/validation/images/' + image_name, image)\n",
    "            imsave('./Data/170822_Panels/validation/masks/' + image_name, mask)\n",
    "    except:\n",
    "        counter += 1"
   ]
  },
  {
   "cell_type": "code",
   "execution_count": 4,
   "metadata": {},
   "outputs": [
    {
     "name": "stderr",
     "output_type": "stream",
     "text": [
      "  0%|                                                 | 0/5895 [00:00<?, ?it/s]C:\\Users\\admin\\Anaconda3\\lib\\site-packages\\skimage\\transform\\_warps.py:84: UserWarning: The default mode, 'constant', will be changed to 'reflect' in skimage 0.15.\n",
      "  warn(\"The default mode, 'constant', will be changed to 'reflect' in \"\n",
      "100%|██████████████████████████████████████| 5895/5895 [05:14<00:00, 17.92it/s]\n"
     ]
    }
   ],
   "source": [
    "# Write the uncracked panels to the folders\n",
    "mask = np.zeros([185, 185], dtype = np.float32)  # Nearest-neighbor interpolation\n",
    "\n",
    "for fp in tqdm(filepaths['uncracked_images']):\n",
    "    image_name = fp.split('\\\\')[-1]\n",
    "    image      = imread(fp, mode = 'RGB')\n",
    "        \n",
    "    image = resize(image, [185, 185], order = 0)\n",
    "\n",
    "    # Randomly assign to training/validation folder\n",
    "    if np.random.rand() > 0.2:\n",
    "        imsave('./Data/170822_Panels/training/images/' + image_name, image)\n",
    "        imsave('./Data/170822_Panels/training/masks/' + image_name, mask)\n",
    "    else:\n",
    "        imsave('./Data/170822_Panels/validation/images/' + image_name, image)\n",
    "        imsave('./Data/170822_Panels/validation/masks/' + image_name, mask)"
   ]
  }
 ],
 "metadata": {
  "anaconda-cloud": {},
  "kernelspec": {
   "display_name": "Python [conda root]",
   "language": "python",
   "name": "conda-root-py"
  },
  "language_info": {
   "codemirror_mode": {
    "name": "ipython",
    "version": 3
   },
   "file_extension": ".py",
   "mimetype": "text/x-python",
   "name": "python",
   "nbconvert_exporter": "python",
   "pygments_lexer": "ipython3",
   "version": "3.5.3"
  }
 },
 "nbformat": 4,
 "nbformat_minor": 2
}
