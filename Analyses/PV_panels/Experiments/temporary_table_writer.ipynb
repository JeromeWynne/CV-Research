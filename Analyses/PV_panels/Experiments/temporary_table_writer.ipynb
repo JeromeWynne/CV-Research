{
 "cells": [
  {
   "cell_type": "code",
   "execution_count": 31,
   "metadata": {
    "collapsed": true
   },
   "outputs": [],
   "source": [
    "from scipy.misc import imread\n",
    "from glob import glob\n",
    "import pandas as pd\n",
    "import numpy as np"
   ]
  },
  {
   "cell_type": "code",
   "execution_count": 39,
   "metadata": {},
   "outputs": [],
   "source": [
    "DST_FP  = [ './data/pv_panels/training/training_scheme.csv',\n",
    "            './data/pv_panels/validation/validation_scheme.csv' ]\n",
    "\n",
    "filepaths = [  { 'images' : glob('./data/pv_panels/training/images/*.png'), # Training\n",
    "                 'masks'  : glob('./data/pv_panels/training/masks/*.png') },\n",
    "               { 'images' : glob('./data/pv_panels/validation/images/*.png'), # Validation\n",
    "                 'masks'  : glob('./data/pv_panels/validation/masks/*.png')} ]\n",
    "\n",
    "for i in [0, 1]:\n",
    "    image_names = [fp.split('/')[-1] for fp in filepaths[i]['images']]\n",
    "    mask_names  = [fp.split('/')[-1] for fp in filepaths[i]['masks']]\n",
    "\n",
    "    lists_match     = np.prod([image_names[j] == mask_names[j] for j in range(len(image_names))]) # Check the lists are aligned\n",
    "    \n",
    "    image_classes   = [np.sum(imread(fp, mode = 'L')) > 1 for fp in filepaths[i]['masks']]\n",
    "    imbalanced_data = pd.DataFrame({\n",
    "                        'name'  : image_names,\n",
    "                        'class' : image_classes\n",
    "                    })\n",
    "    \n",
    "    if (i == 0): # Balance the training data\n",
    "            class_counts    = imbalanced_data['class'].value_counts()\n",
    "            class_imbalance = class_counts[False] - class_counts[True]\n",
    "\n",
    "            sample          = imbalanced_data[imbalanced_data['class']].sample(n = class_imbalance, replace = True)\n",
    "            balanced_data   = imbalanced_data.append(sample)\n",
    "            writable_data   = balanced_data.sample(n = balanced_data.shape[0], replace = False) # shuffle the data\n",
    "            \n",
    "    if (i == 1): # Do not balance the validation data, but shuffle it\n",
    "            writable_data = imbalanced_data.sample(n = imbalanced_data.shape[0], replace = False)\n",
    "    \n",
    "    writable_data.to_csv(DST_FP[i], index = False)\n",
    "        "
   ]
  }
 ],
 "metadata": {
  "kernelspec": {
   "display_name": "Python 3",
   "language": "python",
   "name": "python3"
  },
  "language_info": {
   "codemirror_mode": {
    "name": "ipython",
    "version": 3
   },
   "file_extension": ".py",
   "mimetype": "text/x-python",
   "name": "python",
   "nbconvert_exporter": "python",
   "pygments_lexer": "ipython3",
   "version": "3.6.1"
  }
 },
 "nbformat": 4,
 "nbformat_minor": 2
}
