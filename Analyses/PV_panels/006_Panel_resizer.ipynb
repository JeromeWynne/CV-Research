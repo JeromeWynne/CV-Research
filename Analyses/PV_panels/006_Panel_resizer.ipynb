{
 "cells": [
  {
   "cell_type": "markdown",
   "metadata": {},
   "source": [
    "This notebook imports and resizes images of solar panels to $185 \\times 185$, then copies them to a new directory. It does not copy images that have an excess/insuffienct aspect ratio."
   ]
  },
  {
   "cell_type": "code",
   "execution_count": 12,
   "metadata": {},
   "outputs": [],
   "source": [
    "from glob import glob\n",
    "from scipy.misc import imread, imsave, imresize\n",
    "from tqdm import tqdm"
   ]
  },
  {
   "cell_type": "code",
   "execution_count": 7,
   "metadata": {},
   "outputs": [
    {
     "data": {
      "text/plain": [
       "['./Data/170728_Panel_Solos_Sorted\\\\Cracked',\n",
       " './Data/170728_Panel_Solos_Sorted\\\\Doubles+',\n",
       " './Data/170728_Panel_Solos_Sorted\\\\Uncracked']"
      ]
     },
     "execution_count": 7,
     "metadata": {},
     "output_type": "execute_result"
    }
   ],
   "source": [
    "glob('./Data/170728_Panel_Solos_Sorted/*')"
   ]
  },
  {
   "cell_type": "markdown",
   "metadata": {},
   "source": [
    "#### Resize and Transfer Cracked Panels"
   ]
  },
  {
   "cell_type": "code",
   "execution_count": 35,
   "metadata": {},
   "outputs": [
    {
     "name": "stderr",
     "output_type": "stream",
     "text": [
      "100%|████████████████████████████████████████| 992/992 [00:20<00:00, 48.37it/s]\n"
     ]
    }
   ],
   "source": [
    "filepaths = glob('./Data/170728_Panel_Solos_Sorted/Cracked/*.png')\n",
    "dst_folder = './Data/170729_Panel_Solos_Resized/Cracked/'\n",
    "\n",
    "IMAGE_SIDE = 185\n",
    "\n",
    "for fp in tqdm(filepaths):\n",
    "    image = imread(fp)\n",
    "    if abs(image.shape[0]/image.shape[1] - 1) < 0.15:\n",
    "        name = fp.split('\\\\')[-1]\n",
    "        resized_image = imresize(image, [IMAGE_SIDE, IMAGE_SIDE])\n",
    "        imsave(dst_folder + name, resized_image)\n",
    "    else:\n",
    "        print('Did not transfer image \\'{}\\' - gross aspect ratio.'.format(name))"
   ]
  },
  {
   "cell_type": "markdown",
   "metadata": {},
   "source": [
    "#### Resize and Transfer Uncracked Panels"
   ]
  },
  {
   "cell_type": "code",
   "execution_count": 38,
   "metadata": {},
   "outputs": [
    {
     "name": "stderr",
     "output_type": "stream",
     "text": [
      " 22%|████████▎                             | 2006/9138 [01:22<03:31, 33.65it/s]"
     ]
    },
    {
     "name": "stdout",
     "output_type": "stream",
     "text": [
      "Did not transfer image '134_414d5521-8183-458d-839b-7d20648097e2.png' - gross aspect ratio.\n"
     ]
    },
    {
     "name": "stderr",
     "output_type": "stream",
     "text": [
      " 23%|████████▉                             | 2145/9138 [01:27<03:46, 30.94it/s]"
     ]
    },
    {
     "name": "stdout",
     "output_type": "stream",
     "text": [
      "Did not transfer image '140_080f8acf-024a-4004-b6cc-880263d50c46.png' - gross aspect ratio.\n"
     ]
    },
    {
     "name": "stderr",
     "output_type": "stream",
     "text": [
      " 24%|█████████                             | 2167/9138 [01:27<03:53, 29.86it/s]"
     ]
    },
    {
     "name": "stdout",
     "output_type": "stream",
     "text": [
      "Did not transfer image '140_5660b4a5-0aa8-48a1-af16-959bdea48a7e.png' - gross aspect ratio.\n",
      "Did not transfer image '140_5660b4a5-0aa8-48a1-af16-959bdea48a7e.png' - gross aspect ratio.\n"
     ]
    },
    {
     "name": "stderr",
     "output_type": "stream",
     "text": [
      " 24%|█████████                             | 2188/9138 [01:28<03:49, 30.32it/s]"
     ]
    },
    {
     "name": "stdout",
     "output_type": "stream",
     "text": [
      "Did not transfer image '140_c67a0c37-a3cf-4362-9d9c-0d93b856611b.png' - gross aspect ratio.\n"
     ]
    },
    {
     "name": "stderr",
     "output_type": "stream",
     "text": [
      " 25%|█████████▍                            | 2277/9138 [01:31<03:36, 31.64it/s]"
     ]
    },
    {
     "name": "stdout",
     "output_type": "stream",
     "text": [
      "Did not transfer image '142_46220c17-8e05-486c-a592-81d9744347cf.png' - gross aspect ratio.\n"
     ]
    },
    {
     "name": "stderr",
     "output_type": "stream",
     "text": [
      "\r",
      " 25%|█████████▍                            | 2281/9138 [01:31<03:30, 32.60it/s]"
     ]
    },
    {
     "name": "stdout",
     "output_type": "stream",
     "text": [
      "Did not transfer image '142_4afdb0b5-3795-4527-9117-5dfa185a1e7c.png' - gross aspect ratio.\n"
     ]
    },
    {
     "name": "stderr",
     "output_type": "stream",
     "text": [
      "\r",
      " 25%|█████████▌                            | 2285/9138 [01:32<05:14, 21.78it/s]"
     ]
    },
    {
     "name": "stdout",
     "output_type": "stream",
     "text": [
      "Did not transfer image '142_62c3064a-c7b3-4c3f-b995-92cdd808b6c8.png' - gross aspect ratio.\n"
     ]
    },
    {
     "name": "stderr",
     "output_type": "stream",
     "text": [
      " 25%|█████████▌                            | 2293/9138 [01:32<04:16, 26.71it/s]"
     ]
    },
    {
     "name": "stdout",
     "output_type": "stream",
     "text": [
      "Did not transfer image '142_72826b35-4a8d-4572-8ba9-5eece867e2e0.png' - gross aspect ratio.\n"
     ]
    },
    {
     "name": "stderr",
     "output_type": "stream",
     "text": [
      "\r",
      " 25%|█████████▌                            | 2297/9138 [01:32<04:07, 27.64it/s]"
     ]
    },
    {
     "name": "stdout",
     "output_type": "stream",
     "text": [
      "Did not transfer image '142_8561fef0-a1d3-4b9f-852f-7bf0f79c7090.png' - gross aspect ratio.\n"
     ]
    },
    {
     "name": "stderr",
     "output_type": "stream",
     "text": [
      " 25%|█████████▌                            | 2307/9138 [01:32<04:23, 25.97it/s]"
     ]
    },
    {
     "name": "stdout",
     "output_type": "stream",
     "text": [
      "Did not transfer image '142_bb3a7e07-a29c-4568-af88-c3c92ca1b2c7.png' - gross aspect ratio.\n"
     ]
    },
    {
     "name": "stderr",
     "output_type": "stream",
     "text": [
      " 25%|█████████▌                            | 2314/9138 [01:33<03:53, 29.22it/s]"
     ]
    },
    {
     "name": "stdout",
     "output_type": "stream",
     "text": [
      "Did not transfer image '142_cf19924d-ade4-4338-836b-9469a90e0a80.png' - gross aspect ratio.\n"
     ]
    },
    {
     "name": "stderr",
     "output_type": "stream",
     "text": [
      "\r",
      " 25%|█████████▋                            | 2318/9138 [01:33<04:07, 27.58it/s]"
     ]
    },
    {
     "name": "stdout",
     "output_type": "stream",
     "text": [
      "Did not transfer image '142_e526f20e-19cb-4c9c-9e86-c5ce4bf91bab.png' - gross aspect ratio.\n"
     ]
    },
    {
     "name": "stderr",
     "output_type": "stream",
     "text": [
      " 40%|███████████████▏                      | 3655/9138 [02:17<03:14, 28.20it/s]"
     ]
    },
    {
     "name": "stdout",
     "output_type": "stream",
     "text": [
      "Did not transfer image '15_34c6995d-7d08-4a24-9407-e42ed612e099.png' - gross aspect ratio.\n"
     ]
    },
    {
     "name": "stderr",
     "output_type": "stream",
     "text": [
      " 40%|███████████████▎                      | 3673/9138 [02:17<02:26, 37.30it/s]"
     ]
    },
    {
     "name": "stdout",
     "output_type": "stream",
     "text": [
      "Did not transfer image '15_82286ba7-f560-4f37-866d-3545aac15233.png' - gross aspect ratio.\n"
     ]
    },
    {
     "name": "stderr",
     "output_type": "stream",
     "text": [
      " 40%|███████████████▎                      | 3681/9138 [02:18<03:21, 27.13it/s]"
     ]
    },
    {
     "name": "stdout",
     "output_type": "stream",
     "text": [
      "Did not transfer image '15_a9efeeca-575a-409b-a5bf-bbb9a034ed33.png' - gross aspect ratio.\n"
     ]
    },
    {
     "name": "stderr",
     "output_type": "stream",
     "text": [
      " 51%|███████████████████▎                  | 4649/9138 [02:48<03:46, 19.80it/s]"
     ]
    },
    {
     "name": "stdout",
     "output_type": "stream",
     "text": [
      "Did not transfer image '29_22c0615e-7af9-4d03-9028-bb42126a06e9.png' - gross aspect ratio.\n"
     ]
    },
    {
     "name": "stderr",
     "output_type": "stream",
     "text": [
      " 56%|█████████████████████▎                | 5130/9138 [03:04<01:52, 35.70it/s]"
     ]
    },
    {
     "name": "stdout",
     "output_type": "stream",
     "text": [
      "Did not transfer image '35_607a44c9-bebb-45fe-aeff-d31c2a8c19e2.png' - gross aspect ratio.\n"
     ]
    },
    {
     "name": "stderr",
     "output_type": "stream",
     "text": [
      " 57%|█████████████████████▋                | 5205/9138 [03:06<01:59, 32.88it/s]"
     ]
    },
    {
     "name": "stdout",
     "output_type": "stream",
     "text": [
      "Did not transfer image '36_8d5e6191-441a-403f-a417-64b03bce2bb3.png' - gross aspect ratio.\n"
     ]
    },
    {
     "name": "stderr",
     "output_type": "stream",
     "text": [
      " 78%|█████████████████████████████▌        | 7100/9138 [04:05<00:46, 43.96it/s]"
     ]
    },
    {
     "name": "stdout",
     "output_type": "stream",
     "text": [
      "Did not transfer image '66_a65805dc-e2ee-4f03-a75b-ade9f739b8a8.png' - gross aspect ratio.\n"
     ]
    },
    {
     "name": "stderr",
     "output_type": "stream",
     "text": [
      " 82%|██████████████████████████████▉       | 7452/9138 [04:15<00:50, 33.45it/s]"
     ]
    },
    {
     "name": "stdout",
     "output_type": "stream",
     "text": [
      "Did not transfer image '71_340a7384-f378-41bf-bf4c-3d57006599b4.png' - gross aspect ratio.\n"
     ]
    },
    {
     "name": "stderr",
     "output_type": "stream",
     "text": [
      " 82%|███████████████████████████████▏      | 7485/9138 [04:17<00:53, 30.77it/s]"
     ]
    },
    {
     "name": "stdout",
     "output_type": "stream",
     "text": [
      "Did not transfer image '71_d109ce7c-74a4-4d04-8667-c447b95efd9e.png' - gross aspect ratio.\n"
     ]
    },
    {
     "name": "stderr",
     "output_type": "stream",
     "text": [
      " 82%|███████████████████████████████▎      | 7524/9138 [04:18<00:49, 32.38it/s]"
     ]
    },
    {
     "name": "stdout",
     "output_type": "stream",
     "text": [
      "Did not transfer image '72_88ffa07c-d1ff-4c1f-b96b-5b684e904281.png' - gross aspect ratio.\n"
     ]
    },
    {
     "name": "stderr",
     "output_type": "stream",
     "text": [
      " 84%|███████████████████████████████▊      | 7661/9138 [04:22<00:41, 35.83it/s]"
     ]
    },
    {
     "name": "stdout",
     "output_type": "stream",
     "text": [
      "Did not transfer image '75_01422db2-4cfe-4eb8-960c-6cdbbbbbf8e3.png' - gross aspect ratio.\n"
     ]
    },
    {
     "name": "stderr",
     "output_type": "stream",
     "text": [
      " 84%|███████████████████████████████▉      | 7687/9138 [04:23<00:34, 42.31it/s]"
     ]
    },
    {
     "name": "stdout",
     "output_type": "stream",
     "text": [
      "Did not transfer image '75_78b54345-374c-4e7e-84fe-daf0df8ce5a7.png' - gross aspect ratio.\n"
     ]
    },
    {
     "name": "stderr",
     "output_type": "stream",
     "text": [
      " 84%|████████████████████████████████      | 7702/9138 [04:23<00:33, 42.24it/s]"
     ]
    },
    {
     "name": "stdout",
     "output_type": "stream",
     "text": [
      "Did not transfer image '75_c14f850f-5755-4f84-960a-365a4fe46d56.png' - gross aspect ratio.\n"
     ]
    },
    {
     "name": "stderr",
     "output_type": "stream",
     "text": [
      "100%|██████████████████████████████████████| 9138/9138 [05:04<00:00, 30.04it/s]\n"
     ]
    }
   ],
   "source": [
    "filepaths = glob('./Data/170728_Panel_Solos_Sorted/Uncracked/*.png')\n",
    "dst_folder = './Data/170729_Panel_Solos_Resized/Uncracked/'\n",
    "\n",
    "IMAGE_SIDE = 185\n",
    "\n",
    "for fp in tqdm(filepaths):\n",
    "    image = imread(fp)\n",
    "    if abs(image.shape[0]/image.shape[1] - 1) < 0.15:\n",
    "        name = fp.split('\\\\')[-1]\n",
    "        resized_image = imresize(image, [IMAGE_SIDE, IMAGE_SIDE])\n",
    "        imsave(dst_folder + name, resized_image)\n",
    "    else:\n",
    "        print('Did not transfer image \\'{}\\' - gross aspect ratio.'.format(name))"
   ]
  }
 ],
 "metadata": {
  "anaconda-cloud": {},
  "kernelspec": {
   "display_name": "Python [default]",
   "language": "python",
   "name": "python3"
  },
  "language_info": {
   "codemirror_mode": {
    "name": "ipython",
    "version": 3
   },
   "file_extension": ".py",
   "mimetype": "text/x-python",
   "name": "python",
   "nbconvert_exporter": "python",
   "pygments_lexer": "ipython3",
   "version": "3.5.3"
  }
 },
 "nbformat": 4,
 "nbformat_minor": 2
}
