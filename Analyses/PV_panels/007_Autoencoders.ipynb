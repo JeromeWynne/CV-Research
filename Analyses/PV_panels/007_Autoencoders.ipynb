{
 "cells": [
  {
   "cell_type": "markdown",
   "metadata": {},
   "source": [
    "We seek an alternative represenation of the cracked panels, to enable more accurate classification. To do do this, we will use an autoencoder. An autoencoder attempts to learn an encoding of the input $f(\\mathbf{x})$, paired with an associated decoding $\\mathbf{x}' = g(f(\\mathbf{x}))$. We train it by penalizing differences between the input and the output.\n",
    "\n",
    "We seek a sparse representation of the same dimensionality as the input. We introduce a term into our loss function that penalizes loss of crack-related information more severely than other differences."
   ]
  }
 ],
 "metadata": {
  "anaconda-cloud": {},
  "kernelspec": {
   "display_name": "Python [default]",
   "language": "python",
   "name": "python3"
  },
  "language_info": {
   "codemirror_mode": {
    "name": "ipython",
    "version": 3
   },
   "file_extension": ".py",
   "mimetype": "text/x-python",
   "name": "python",
   "nbconvert_exporter": "python",
   "pygments_lexer": "ipython3",
   "version": "3.5.3"
  }
 },
 "nbformat": 4,
 "nbformat_minor": 2
}
