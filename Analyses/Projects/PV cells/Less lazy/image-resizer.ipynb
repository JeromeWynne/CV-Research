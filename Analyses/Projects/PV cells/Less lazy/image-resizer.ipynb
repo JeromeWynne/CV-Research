{
 "cells": [
  {
   "cell_type": "markdown",
   "metadata": {},
   "source": [
    "# Image Resizer\n",
    "---"
   ]
  },
  {
   "cell_type": "markdown",
   "metadata": {},
   "source": [
    "This script resizes the images. It pickles the It does not interpolate.\n",
    "1. Read in all images\n",
    "2. Resize to median size.\n",
    "3. Write the resized images to a folder."
   ]
  },
  {
   "cell_type": "code",
   "execution_count": 16,
   "metadata": {
    "collapsed": false
   },
   "outputs": [],
   "source": [
    "from skimage.transform import resize\n",
    "from scipy.misc import imread, imsave\n",
    "import glob as glob\n",
    "import numpy as np\n",
    "import shutil\n",
    "import uuid\n",
    "import os\n",
    "\n",
    "force = True # Overwrite previous runs?\n",
    "\n",
    "if not os.path.exists('.\\\\data\\\\resized-images\\\\'):\n",
    "    os.makedirs('.\\\\data\\\\resized-images\\\\')\n",
    "elif force:\n",
    "    shutil.rmtree('.\\\\data\\\\resized-images\\\\')\n",
    "    os.makedirs('.\\\\data\\\\resized-images\\\\')\n",
    "\n",
    "image_filepaths = glob.glob('.\\\\data\\\\raw-images\\\\*.png')\n",
    "median_size     = np.median([imread(fp).shape for fp in image_filepaths]).astype(int)\n",
    "size            = [median_size, median_size]\n",
    "\n",
    "for fp in image_filepaths:\n",
    "        resized_image = resize(imread(fp), size) # Interpolates\n",
    "        unique_id     = uuid.uuid4().hex\n",
    "        imsave('.\\\\data\\\\resized-images\\\\' + unique_id + '.png', resized_image)\n",
    "        \n",
    "print('Image resizing complete.')"
   ]
  }
 ],
 "metadata": {
  "kernelspec": {
   "display_name": "Python [Root]",
   "language": "python",
   "name": "Python [Root]"
  },
  "language_info": {
   "codemirror_mode": {
    "name": "ipython",
    "version": 3
   },
   "file_extension": ".py",
   "mimetype": "text/x-python",
   "name": "python",
   "nbconvert_exporter": "python",
   "pygments_lexer": "ipython3",
   "version": "3.5.2"
  }
 },
 "nbformat": 4,
 "nbformat_minor": 0
}
