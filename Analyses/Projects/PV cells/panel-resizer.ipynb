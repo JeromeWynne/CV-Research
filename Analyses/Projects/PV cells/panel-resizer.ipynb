{
 "cells": [
  {
   "cell_type": "markdown",
   "metadata": {},
   "source": [
    "*Author: Jerome Wynne (Jerome.Wynne.2014@bristol.ac.uk)*\n",
    "\n",
    "*Last updated: 21/06/2017*"
   ]
  },
  {
   "cell_type": "markdown",
   "metadata": {},
   "source": [
    "This script resizes the PV panel images to a fixed size. It drops three images in the process."
   ]
  },
  {
   "cell_type": "code",
   "execution_count": 41,
   "metadata": {
    "collapsed": false
   },
   "outputs": [
    {
     "name": "stdout",
     "output_type": "stream",
     "text": [
      "3.5.2 |Anaconda 4.1.1 (64-bit)| (default, Jul  5 2016, 11:41:13) [MSC v.1900 64 bit (AMD64)]\n"
     ]
    }
   ],
   "source": [
    "# Python 3.5 should be used\n",
    "import sys\n",
    "print(sys.version)"
   ]
  },
  {
   "cell_type": "code",
   "execution_count": 42,
   "metadata": {
    "collapsed": true
   },
   "outputs": [],
   "source": [
    "# Get image filepaths\n",
    "import glob\n",
    "raw_image_fps = glob.glob('.\\\\data\\\\raw-images\\*')"
   ]
  },
  {
   "cell_type": "code",
   "execution_count": 43,
   "metadata": {
    "collapsed": false
   },
   "outputs": [],
   "source": [
    "# Read in images\n",
    "from scipy.misc import imread, imresize, imsave\n",
    "import numpy as np\n",
    "raw_images = [imread(fp) for fp in raw_image_fps]\n",
    "image_ids  = np.arange(0, len(raw_images)) # These will come in handy later"
   ]
  },
  {
   "cell_type": "code",
   "execution_count": 44,
   "metadata": {
    "collapsed": false
   },
   "outputs": [],
   "source": [
    "# Get image dimensions\n",
    "image_dimensions = [np.shape(img) for img in raw_images]"
   ]
  },
  {
   "cell_type": "code",
   "execution_count": 45,
   "metadata": {
    "collapsed": false
   },
   "outputs": [
    {
     "data": {
      "text/plain": [
       "[(489, 479),\n",
       " (775, 772),\n",
       " (776, 773),\n",
       " (959, 967),\n",
       " (963, 954),\n",
       " (963, 956),\n",
       " (963, 966),\n",
       " (965, 962),\n",
       " (966, 962),\n",
       " (966, 962),\n",
       " (966, 962),\n",
       " (966, 963),\n",
       " (966, 964),\n",
       " (966, 964),\n",
       " (966, 965),\n",
       " (966, 965),\n",
       " (967, 956),\n",
       " (967, 958),\n",
       " (967, 963),\n",
       " (967, 964),\n",
       " (967, 964),\n",
       " (968, 955),\n",
       " (968, 956),\n",
       " (968, 963),\n",
       " (968, 964),\n",
       " (968, 965),\n",
       " (968, 965),\n",
       " (969, 955),\n",
       " (969, 957),\n",
       " (970, 965),\n",
       " (970, 973),\n",
       " (972, 963),\n",
       " (972, 964),\n",
       " (973, 963),\n",
       " (973, 963),\n",
       " (973, 963),\n",
       " (973, 963),\n",
       " (973, 963),\n",
       " (973, 963),\n",
       " (973, 964),\n",
       " (973, 964),\n",
       " (973, 964),\n",
       " (973, 964),\n",
       " (973, 964),\n",
       " (974, 962),\n",
       " (974, 962),\n",
       " (974, 963),\n",
       " (974, 963),\n",
       " (974, 963),\n",
       " (974, 963),\n",
       " (976, 962),\n",
       " (978, 963),\n",
       " (981, 963)]"
      ]
     },
     "execution_count": 45,
     "metadata": {},
     "output_type": "execute_result"
    }
   ],
   "source": [
    "# Print image dimensions sorted by height\n",
    "sorted(image_dimensions)"
   ]
  },
  {
   "cell_type": "markdown",
   "metadata": {},
   "source": [
    "As is apparent from the above, there are three images in the dataset that are smaller than the others. I'm concerned that rescaling these images might impede the ability of a classifier to identify damage and will drop them (for the time being, at least)."
   ]
  },
  {
   "cell_type": "code",
   "execution_count": 46,
   "metadata": {
    "collapsed": false
   },
   "outputs": [],
   "source": [
    "# Sort images by size then drop the first three images\n",
    "image_ids  = sorted(image_ids,  key = lambda j: np.shape(raw_images[j]))[3:] # Sort the ids in the same way as the images\n",
    "raw_images = sorted(raw_images, key = np.shape)[3:]"
   ]
  },
  {
   "cell_type": "code",
   "execution_count": 51,
   "metadata": {
    "collapsed": false
   },
   "outputs": [],
   "source": [
    "# Resize images and save them to a new folder\n",
    "import os\n",
    "if not os.path.exists('.\\\\data\\\\resized-images'):\n",
    "    os.makedirs('.\\\\data\\\\resized-images')\n",
    "\n",
    "# Get destination image size (we'll take the mean of the image dimensions)\n",
    "dst_dim  = np.ceil(np.mean(np.asarray(image_dimensions), axis = 0)).astype(int)\n",
    "dst_dim[1] = dst_dim[0] # To simplify matters, we make the images square"
   ]
  },
  {
   "cell_type": "code",
   "execution_count": null,
   "metadata": {
    "collapsed": true
   },
   "outputs": [],
   "source": [
    "# Resize images\n",
    "resized_images = [imresize(img, dst_dim) for img in raw_images]\n",
    "\n",
    "# Write images to local directory\n",
    "for j in range(len(resized_images)):\n",
    "    imsave('.\\\\data\\\\resized-images\\\\resized_' + str(image_ids[j]) + '.png', resized_images[j])"
   ]
  },
  {
   "cell_type": "markdown",
   "metadata": {},
   "source": [
    "The resized images should now be available locally. \n",
    "\n",
    "The script below writes out 6x6 grids of subimages for each resized image."
   ]
  },
  {
   "cell_type": "code",
   "execution_count": 102,
   "metadata": {
    "collapsed": false
   },
   "outputs": [],
   "source": [
    "if not os.path.exists('.\\\\data\\\\subset-images'):\n",
    "    os.makedirs('.\\\\data\\\\subset-images')\n",
    "    \n",
    "sub_dim = (dst_dim[1]/6).astype(int)\n",
    "for k in range(len(resized_images)):\n",
    "    for i in range(0, 6): # Horizontal grid element variable\n",
    "        for j in range(0, 6): # Vertical grid element variable\n",
    "            sub_image = resized_images[k][j*sub_dim : (j+1)*sub_dim, i*sub_dim:(i+1)*sub_dim]\n",
    "            imsave('.\\\\data\\\\subset-images\\\\subset_' + str(image_ids[k]) + '_' + str(j) + str(i) + '.png', sub_image)"
   ]
  }
 ],
 "metadata": {
  "kernelspec": {
   "display_name": "Python [Root]",
   "language": "python",
   "name": "Python [Root]"
  },
  "language_info": {
   "codemirror_mode": {
    "name": "ipython",
    "version": 3
   },
   "file_extension": ".py",
   "mimetype": "text/x-python",
   "name": "python",
   "nbconvert_exporter": "python",
   "pygments_lexer": "ipython3",
   "version": "3.5.2"
  }
 },
 "nbformat": 4,
 "nbformat_minor": 0
}
