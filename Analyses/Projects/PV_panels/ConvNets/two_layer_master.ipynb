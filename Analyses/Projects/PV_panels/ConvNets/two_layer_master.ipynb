{
 "cells": [
  {
   "cell_type": "code",
   "execution_count": 1,
   "metadata": {
    "collapsed": true
   },
   "outputs": [],
   "source": [
    "from os import environ\n",
    "environ['TF_CPP_MIN_LOG_LEVEL'] = '2' # Deactive warnings about building from sourc\n",
    "from scipy.misc import imread, imresize\n",
    "from glob import glob\n",
    "import numpy as np\n",
    "from datetime import datetime\n",
    "\n",
    "from models import two_layer_convnet\n",
    "from pymvtest import classification"
   ]
  },
  {
   "cell_type": "markdown",
   "metadata": {},
   "source": [
    "### Master Dictionary"
   ]
  },
  {
   "cell_type": "code",
   "execution_count": 2,
   "metadata": {
    "collapsed": false
   },
   "outputs": [
    {
     "name": "stdout",
     "output_type": "stream",
     "text": [
      "Training for 10001 iterations.\n",
      "32 units per batch.\n"
     ]
    }
   ],
   "source": [
    "TF = {\n",
    "      'batch_size':32,\n",
    "      'graph':None,\n",
    "      'image_size':200, # Resize full images to this size\n",
    "      'patch_size':20,\n",
    "      'input_channels':1,\n",
    "      'learning_rate':0.001,\n",
    "      'n_classes':2,\n",
    "      'output_channels':[16, 8, 32],\n",
    "      'filter_size':[3, 5],\n",
    "      'seed':3,\n",
    "      'split_fraction':0.7,\n",
    "      'summary_train':[],\n",
    "      'training_steps':10001,\n",
    "      'test_id':'New_Build',\n",
    "}\n",
    "print('Training for {} iterations.'.format(TF['training_steps']))\n",
    "print('{} units per batch.'.format(TF['batch_size']))"
   ]
  },
  {
   "cell_type": "markdown",
   "metadata": {},
   "source": [
    "### Data Import"
   ]
  },
  {
   "cell_type": "code",
   "execution_count": 3,
   "metadata": {
    "collapsed": false
   },
   "outputs": [
    {
     "name": "stdout",
     "output_type": "stream",
     "text": [
      "Importing data...\n",
      "Data imported and resized.\n"
     ]
    }
   ],
   "source": [
    "print('Importing data...')\n",
    "\n",
    "# Whiten on import\n",
    "images = np.array([np.expand_dims((imread(fp).astype(np.float32) - 128)/255, axis = -1)\n",
    "                  for fp in glob('./data/resized-images/*.png')])\n",
    "masks  = np.array([imread(fp)/255 for fp in glob('./data/masked-images/*.png')])\n",
    "# Resize to 200 x 200\n",
    "images, masks = classification.resize(images, masks, TF['image_size'])\n",
    "\n",
    "print('Data imported and resized.')"
   ]
  },
  {
   "cell_type": "markdown",
   "metadata": {},
   "source": [
    "### Fit Model"
   ]
  },
  {
   "cell_type": "code",
   "execution_count": 4,
   "metadata": {
    "collapsed": false
   },
   "outputs": [
    {
     "name": "stdout",
     "output_type": "stream",
     "text": [
      "Training dataset dimensions: (41, 200, 200, 1)\n",
      "Validation dataset dimensions: (11, 200, 200, 1)\n",
      "\n",
      "Fitting model...\n",
      "(Step   0  ) Validation accuracy:    0.49\n",
      "\n",
      "(Step  100 ) Minibatch accuracy:     0.62\n",
      "(Step  100 ) Minibatch loss:       0.6864\n",
      "(Step  100 ) Validation accuracy:    0.55\n",
      "\n",
      "(Step  200 ) Minibatch accuracy:     0.56\n",
      "(Step  200 ) Minibatch loss:       0.6686\n",
      "(Step  200 ) Validation accuracy:    0.74\n",
      "\n",
      "(Step  300 ) Minibatch accuracy:     0.47\n",
      "(Step  300 ) Minibatch loss:       0.6585\n",
      "(Step  300 ) Validation accuracy:    0.62\n",
      "\n",
      "(Step  400 ) Minibatch accuracy:     0.47\n",
      "(Step  400 ) Minibatch loss:       0.6141\n",
      "(Step  400 ) Validation accuracy:    0.80\n",
      "\n",
      "(Step  500 ) Minibatch accuracy:     0.84\n",
      "(Step  500 ) Minibatch loss:       0.4713\n",
      "(Step  500 ) Validation accuracy:    0.81\n",
      "\n",
      "(Step  600 ) Minibatch accuracy:     0.69\n",
      "(Step  600 ) Minibatch loss:       0.6334\n",
      "(Step  600 ) Validation accuracy:    0.82\n",
      "\n",
      "(Step  700 ) Minibatch accuracy:     0.75\n",
      "(Step  700 ) Minibatch loss:       0.4376\n",
      "(Step  700 ) Validation accuracy:    0.88\n",
      "\n",
      "(Step  800 ) Minibatch accuracy:     0.88\n",
      "(Step  800 ) Minibatch loss:       0.4435\n",
      "(Step  800 ) Validation accuracy:    0.87\n",
      "\n",
      "(Step  900 ) Minibatch accuracy:     0.94\n",
      "(Step  900 ) Minibatch loss:       0.3773\n",
      "(Step  900 ) Validation accuracy:    0.87\n",
      "\n",
      "(Step 1000 ) Minibatch accuracy:     0.94\n",
      "(Step 1000 ) Minibatch loss:       0.4393\n",
      "(Step 1000 ) Validation accuracy:    0.89\n",
      "\n",
      "(Step 1100 ) Minibatch accuracy:     0.94\n",
      "(Step 1100 ) Minibatch loss:       0.4473\n",
      "(Step 1100 ) Validation accuracy:    0.89\n",
      "\n",
      "(Step 1200 ) Minibatch accuracy:     0.91\n",
      "(Step 1200 ) Minibatch loss:       0.5662\n",
      "(Step 1200 ) Validation accuracy:    0.90\n",
      "\n",
      "(Step 1300 ) Minibatch accuracy:     0.91\n",
      "(Step 1300 ) Minibatch loss:       0.4565\n",
      "(Step 1300 ) Validation accuracy:    0.90\n",
      "\n",
      "(Step 1400 ) Minibatch accuracy:     0.88\n",
      "(Step 1400 ) Minibatch loss:       0.4834\n",
      "(Step 1400 ) Validation accuracy:    0.89\n",
      "\n",
      "(Step 1500 ) Minibatch accuracy:     0.91\n",
      "(Step 1500 ) Minibatch loss:       0.4483\n",
      "(Step 1500 ) Validation accuracy:    0.89\n",
      "\n",
      "(Step 1600 ) Minibatch accuracy:     0.88\n",
      "(Step 1600 ) Minibatch loss:       0.7901\n",
      "(Step 1600 ) Validation accuracy:    0.90\n",
      "\n",
      "(Step 1700 ) Minibatch accuracy:     0.91\n",
      "(Step 1700 ) Minibatch loss:       0.5651\n",
      "(Step 1700 ) Validation accuracy:    0.55\n",
      "\n",
      "(Step 1800 ) Minibatch accuracy:     0.91\n",
      "(Step 1800 ) Minibatch loss:       0.4549\n",
      "(Step 1800 ) Validation accuracy:    0.79\n",
      "\n",
      "(Step 1900 ) Minibatch accuracy:     0.97\n",
      "(Step 1900 ) Minibatch loss:       0.5151\n",
      "(Step 1900 ) Validation accuracy:    0.65\n",
      "\n",
      "(Step 2000 ) Minibatch accuracy:     0.94\n",
      "(Step 2000 ) Minibatch loss:       0.4572\n",
      "(Step 2000 ) Validation accuracy:    0.84\n",
      "\n",
      "(Step 2100 ) Minibatch accuracy:     0.91\n",
      "(Step 2100 ) Minibatch loss:       0.4452\n",
      "(Step 2100 ) Validation accuracy:    0.90\n",
      "\n",
      "(Step 2200 ) Minibatch accuracy:     0.88\n",
      "(Step 2200 ) Minibatch loss:       0.4938\n",
      "(Step 2200 ) Validation accuracy:    0.92\n",
      "\n",
      "(Step 2300 ) Minibatch accuracy:     0.56\n",
      "(Step 2300 ) Minibatch loss:       0.6619\n",
      "(Step 2300 ) Validation accuracy:    0.66\n",
      "\n",
      "(Step 2400 ) Minibatch accuracy:     0.72\n",
      "(Step 2400 ) Minibatch loss:       0.5553\n",
      "(Step 2400 ) Validation accuracy:    0.66\n",
      "\n",
      "(Step 2500 ) Minibatch accuracy:     0.69\n",
      "(Step 2500 ) Minibatch loss:       0.5767\n",
      "(Step 2500 ) Validation accuracy:    0.71\n",
      "\n",
      "(Step 2600 ) Minibatch accuracy:     0.53\n",
      "(Step 2600 ) Minibatch loss:       0.7280\n",
      "(Step 2600 ) Validation accuracy:    0.53\n",
      "\n",
      "(Step 2700 ) Minibatch accuracy:     0.88\n",
      "(Step 2700 ) Minibatch loss:       0.5327\n",
      "(Step 2700 ) Validation accuracy:    0.84\n",
      "\n",
      "(Step 2800 ) Minibatch accuracy:     0.94\n",
      "(Step 2800 ) Minibatch loss:       0.4287\n",
      "(Step 2800 ) Validation accuracy:    0.90\n",
      "\n",
      "(Step 2900 ) Minibatch accuracy:     0.97\n",
      "(Step 2900 ) Minibatch loss:       0.3922\n",
      "(Step 2900 ) Validation accuracy:    0.90\n",
      "\n",
      "(Step 3000 ) Minibatch accuracy:     0.84\n",
      "(Step 3000 ) Minibatch loss:       0.5084\n",
      "(Step 3000 ) Validation accuracy:    0.90\n",
      "\n",
      "(Step 3100 ) Minibatch accuracy:     0.72\n",
      "(Step 3100 ) Minibatch loss:       0.6347\n",
      "(Step 3100 ) Validation accuracy:    0.86\n",
      "\n",
      "(Step 3200 ) Minibatch accuracy:     0.97\n",
      "(Step 3200 ) Minibatch loss:       0.3634\n",
      "(Step 3200 ) Validation accuracy:    0.88\n",
      "\n",
      "(Step 3300 ) Minibatch accuracy:     1.00\n",
      "(Step 3300 ) Minibatch loss:       0.3502\n",
      "(Step 3300 ) Validation accuracy:    0.87\n",
      "\n",
      "(Step 3400 ) Minibatch accuracy:     0.97\n",
      "(Step 3400 ) Minibatch loss:       0.2087\n",
      "(Step 3400 ) Validation accuracy:    0.88\n",
      "\n",
      "(Step 3500 ) Minibatch accuracy:     0.91\n",
      "(Step 3500 ) Minibatch loss:       0.2593\n",
      "(Step 3500 ) Validation accuracy:    0.88\n",
      "\n",
      "(Step 3600 ) Minibatch accuracy:     0.94\n",
      "(Step 3600 ) Minibatch loss:       0.2314\n",
      "(Step 3600 ) Validation accuracy:    0.89\n",
      "\n",
      "(Step 3700 ) Minibatch accuracy:     0.91\n",
      "(Step 3700 ) Minibatch loss:       0.2031\n",
      "(Step 3700 ) Validation accuracy:    0.90\n",
      "\n",
      "(Step 3800 ) Minibatch accuracy:     1.00\n",
      "(Step 3800 ) Minibatch loss:       0.0756\n",
      "(Step 3800 ) Validation accuracy:    0.90\n",
      "\n",
      "(Step 3900 ) Minibatch accuracy:     1.00\n",
      "(Step 3900 ) Minibatch loss:       0.1121\n",
      "(Step 3900 ) Validation accuracy:    0.92\n",
      "\n",
      "(Step 4000 ) Minibatch accuracy:     0.88\n",
      "(Step 4000 ) Minibatch loss:       0.3068\n",
      "(Step 4000 ) Validation accuracy:    0.90\n",
      "\n",
      "(Step 4100 ) Minibatch accuracy:     0.94\n",
      "(Step 4100 ) Minibatch loss:       0.2258\n",
      "(Step 4100 ) Validation accuracy:    0.92\n",
      "\n",
      "(Step 4200 ) Minibatch accuracy:     0.97\n",
      "(Step 4200 ) Minibatch loss:       0.1508\n",
      "(Step 4200 ) Validation accuracy:    0.92\n",
      "\n",
      "(Step 4300 ) Minibatch accuracy:     0.97\n",
      "(Step 4300 ) Minibatch loss:       0.0644\n",
      "(Step 4300 ) Validation accuracy:    0.92\n",
      "\n",
      "(Step 4400 ) Minibatch accuracy:     1.00\n",
      "(Step 4400 ) Minibatch loss:       0.1599\n",
      "(Step 4400 ) Validation accuracy:    0.92\n",
      "\n",
      "(Step 4500 ) Minibatch accuracy:     0.84\n",
      "(Step 4500 ) Minibatch loss:       0.3260\n",
      "(Step 4500 ) Validation accuracy:    0.93\n",
      "\n",
      "(Step 4600 ) Minibatch accuracy:     0.97\n",
      "(Step 4600 ) Minibatch loss:       0.1021\n",
      "(Step 4600 ) Validation accuracy:    0.92\n",
      "\n",
      "(Step 4700 ) Minibatch accuracy:     0.97\n",
      "(Step 4700 ) Minibatch loss:       0.1168\n",
      "(Step 4700 ) Validation accuracy:    0.91\n",
      "\n",
      "(Step 4800 ) Minibatch accuracy:     0.97\n",
      "(Step 4800 ) Minibatch loss:       0.0977\n",
      "(Step 4800 ) Validation accuracy:    0.92\n",
      "\n",
      "(Step 4900 ) Minibatch accuracy:     0.94\n",
      "(Step 4900 ) Minibatch loss:       0.2004\n",
      "(Step 4900 ) Validation accuracy:    0.91\n",
      "\n",
      "(Step 5000 ) Minibatch accuracy:     0.91\n",
      "(Step 5000 ) Minibatch loss:       0.2067\n",
      "(Step 5000 ) Validation accuracy:    0.91\n",
      "\n",
      "(Step 5100 ) Minibatch accuracy:     0.97\n",
      "(Step 5100 ) Minibatch loss:       0.0923\n",
      "(Step 5100 ) Validation accuracy:    0.92\n",
      "\n",
      "(Step 5200 ) Minibatch accuracy:     0.91\n",
      "(Step 5200 ) Minibatch loss:       0.2890\n",
      "(Step 5200 ) Validation accuracy:    0.93\n",
      "\n",
      "(Step 5300 ) Minibatch accuracy:     0.88\n",
      "(Step 5300 ) Minibatch loss:       0.2701\n",
      "(Step 5300 ) Validation accuracy:    0.93\n",
      "\n",
      "(Step 5400 ) Minibatch accuracy:     0.97\n",
      "(Step 5400 ) Minibatch loss:       0.1201\n",
      "(Step 5400 ) Validation accuracy:    0.93\n",
      "\n",
      "(Step 5500 ) Minibatch accuracy:     0.97\n",
      "(Step 5500 ) Minibatch loss:       0.1411\n",
      "(Step 5500 ) Validation accuracy:    0.91\n",
      "\n",
      "(Step 5600 ) Minibatch accuracy:     0.97\n",
      "(Step 5600 ) Minibatch loss:       0.3434\n",
      "(Step 5600 ) Validation accuracy:    0.91\n",
      "\n",
      "(Step 5700 ) Minibatch accuracy:     0.94\n",
      "(Step 5700 ) Minibatch loss:       0.1287\n",
      "(Step 5700 ) Validation accuracy:    0.91\n",
      "\n",
      "(Step 5800 ) Minibatch accuracy:     0.97\n",
      "(Step 5800 ) Minibatch loss:       0.1281\n",
      "(Step 5800 ) Validation accuracy:    0.93\n",
      "\n",
      "(Step 5900 ) Minibatch accuracy:     0.97\n",
      "(Step 5900 ) Minibatch loss:       0.1099\n",
      "(Step 5900 ) Validation accuracy:    0.92\n",
      "\n",
      "(Step 6000 ) Minibatch accuracy:     0.97\n",
      "(Step 6000 ) Minibatch loss:       0.1256\n",
      "(Step 6000 ) Validation accuracy:    0.92\n",
      "\n",
      "(Step 6100 ) Minibatch accuracy:     0.94\n",
      "(Step 6100 ) Minibatch loss:       0.1394\n",
      "(Step 6100 ) Validation accuracy:    0.93\n",
      "\n",
      "(Step 6200 ) Minibatch accuracy:     0.97\n",
      "(Step 6200 ) Minibatch loss:       0.1923\n",
      "(Step 6200 ) Validation accuracy:    0.92\n",
      "\n",
      "(Step 6300 ) Minibatch accuracy:     1.00\n",
      "(Step 6300 ) Minibatch loss:       0.0436\n",
      "(Step 6300 ) Validation accuracy:    0.93\n",
      "\n",
      "(Step 6400 ) Minibatch accuracy:     0.84\n",
      "(Step 6400 ) Minibatch loss:       0.3642\n",
      "(Step 6400 ) Validation accuracy:    0.94\n",
      "\n",
      "(Step 6500 ) Minibatch accuracy:     1.00\n",
      "(Step 6500 ) Minibatch loss:       0.0950\n",
      "(Step 6500 ) Validation accuracy:    0.93\n",
      "\n",
      "(Step 6600 ) Minibatch accuracy:     0.97\n",
      "(Step 6600 ) Minibatch loss:       0.1164\n",
      "(Step 6600 ) Validation accuracy:    0.93\n",
      "\n",
      "(Step 6700 ) Minibatch accuracy:     0.94\n",
      "(Step 6700 ) Minibatch loss:       0.1193\n",
      "(Step 6700 ) Validation accuracy:    0.92\n",
      "\n",
      "(Step 6800 ) Minibatch accuracy:     0.97\n",
      "(Step 6800 ) Minibatch loss:       0.1426\n",
      "(Step 6800 ) Validation accuracy:    0.93\n",
      "\n",
      "(Step 6900 ) Minibatch accuracy:     0.97\n",
      "(Step 6900 ) Minibatch loss:       0.1541\n",
      "(Step 6900 ) Validation accuracy:    0.95\n",
      "\n",
      "(Step 7000 ) Minibatch accuracy:     0.97\n",
      "(Step 7000 ) Minibatch loss:       0.1504\n",
      "(Step 7000 ) Validation accuracy:    0.92\n",
      "\n",
      "(Step 7100 ) Minibatch accuracy:     1.00\n",
      "(Step 7100 ) Minibatch loss:       0.0467\n",
      "(Step 7100 ) Validation accuracy:    0.93\n",
      "\n",
      "(Step 7200 ) Minibatch accuracy:     1.00\n",
      "(Step 7200 ) Minibatch loss:       0.0369\n",
      "(Step 7200 ) Validation accuracy:    0.93\n",
      "\n",
      "(Step 7300 ) Minibatch accuracy:     0.97\n",
      "(Step 7300 ) Minibatch loss:       0.0664\n",
      "(Step 7300 ) Validation accuracy:    0.93\n",
      "\n",
      "(Step 7400 ) Minibatch accuracy:     1.00\n",
      "(Step 7400 ) Minibatch loss:       0.0550\n",
      "(Step 7400 ) Validation accuracy:    0.94\n",
      "\n",
      "(Step 7500 ) Minibatch accuracy:     0.94\n",
      "(Step 7500 ) Minibatch loss:       0.2494\n",
      "(Step 7500 ) Validation accuracy:    0.94\n",
      "\n",
      "(Step 7600 ) Minibatch accuracy:     1.00\n",
      "(Step 7600 ) Minibatch loss:       0.0535\n",
      "(Step 7600 ) Validation accuracy:    0.95\n",
      "\n",
      "(Step 7700 ) Minibatch accuracy:     0.94\n",
      "(Step 7700 ) Minibatch loss:       0.2092\n",
      "(Step 7700 ) Validation accuracy:    0.95\n",
      "\n",
      "(Step 7800 ) Minibatch accuracy:     1.00\n",
      "(Step 7800 ) Minibatch loss:       0.0580\n",
      "(Step 7800 ) Validation accuracy:    0.95\n",
      "\n",
      "(Step 7900 ) Minibatch accuracy:     0.97\n",
      "(Step 7900 ) Minibatch loss:       0.1101\n",
      "(Step 7900 ) Validation accuracy:    0.95\n",
      "\n",
      "(Step 8000 ) Minibatch accuracy:     1.00\n",
      "(Step 8000 ) Minibatch loss:       0.0324\n",
      "(Step 8000 ) Validation accuracy:    0.95\n",
      "\n",
      "(Step 8100 ) Minibatch accuracy:     1.00\n",
      "(Step 8100 ) Minibatch loss:       0.0412\n",
      "(Step 8100 ) Validation accuracy:    0.97\n",
      "\n",
      "(Step 8200 ) Minibatch accuracy:     0.84\n",
      "(Step 8200 ) Minibatch loss:       0.2758\n",
      "(Step 8200 ) Validation accuracy:    0.95\n",
      "\n",
      "(Step 8300 ) Minibatch accuracy:     0.94\n",
      "(Step 8300 ) Minibatch loss:       0.2005\n",
      "(Step 8300 ) Validation accuracy:    0.96\n",
      "\n",
      "(Step 8400 ) Minibatch accuracy:     0.97\n",
      "(Step 8400 ) Minibatch loss:       0.0966\n",
      "(Step 8400 ) Validation accuracy:    0.96\n",
      "\n",
      "(Step 8500 ) Minibatch accuracy:     1.00\n",
      "(Step 8500 ) Minibatch loss:       0.0281\n",
      "(Step 8500 ) Validation accuracy:    0.96\n",
      "\n",
      "(Step 8600 ) Minibatch accuracy:     0.97\n",
      "(Step 8600 ) Minibatch loss:       0.0952\n",
      "(Step 8600 ) Validation accuracy:    0.95\n",
      "\n",
      "(Step 8700 ) Minibatch accuracy:     1.00\n",
      "(Step 8700 ) Minibatch loss:       0.0535\n",
      "(Step 8700 ) Validation accuracy:    0.96\n",
      "\n",
      "(Step 8800 ) Minibatch accuracy:     0.97\n",
      "(Step 8800 ) Minibatch loss:       0.2680\n",
      "(Step 8800 ) Validation accuracy:    0.94\n",
      "\n",
      "(Step 8900 ) Minibatch accuracy:     0.97\n",
      "(Step 8900 ) Minibatch loss:       0.0643\n",
      "(Step 8900 ) Validation accuracy:    0.97\n",
      "\n",
      "(Step 9000 ) Minibatch accuracy:     1.00\n",
      "(Step 9000 ) Minibatch loss:       0.0181\n",
      "(Step 9000 ) Validation accuracy:    0.97\n",
      "\n",
      "(Step 9100 ) Minibatch accuracy:     0.97\n",
      "(Step 9100 ) Minibatch loss:       0.1443\n",
      "(Step 9100 ) Validation accuracy:    0.95\n",
      "\n",
      "(Step 9200 ) Minibatch accuracy:     0.91\n",
      "(Step 9200 ) Minibatch loss:       0.1832\n",
      "(Step 9200 ) Validation accuracy:    0.96\n",
      "\n",
      "(Step 9300 ) Minibatch accuracy:     1.00\n",
      "(Step 9300 ) Minibatch loss:       0.0430\n",
      "(Step 9300 ) Validation accuracy:    0.96\n",
      "\n",
      "(Step 9400 ) Minibatch accuracy:     0.94\n",
      "(Step 9400 ) Minibatch loss:       0.1078\n",
      "(Step 9400 ) Validation accuracy:    0.98\n",
      "\n",
      "(Step 9500 ) Minibatch accuracy:     0.97\n",
      "(Step 9500 ) Minibatch loss:       0.1755\n",
      "(Step 9500 ) Validation accuracy:    0.98\n",
      "\n",
      "(Step 9600 ) Minibatch accuracy:     1.00\n",
      "(Step 9600 ) Minibatch loss:       0.0260\n",
      "(Step 9600 ) Validation accuracy:    0.98\n",
      "\n",
      "(Step 9700 ) Minibatch accuracy:     0.91\n",
      "(Step 9700 ) Minibatch loss:       0.1111\n",
      "(Step 9700 ) Validation accuracy:    0.97\n",
      "\n",
      "(Step 9800 ) Minibatch accuracy:     1.00\n",
      "(Step 9800 ) Minibatch loss:       0.0395\n",
      "(Step 9800 ) Validation accuracy:    0.97\n",
      "\n",
      "(Step 9900 ) Minibatch accuracy:     0.94\n",
      "(Step 9900 ) Minibatch loss:       0.1648\n",
      "(Step 9900 ) Validation accuracy:    0.95\n",
      "\n",
      "(Step 10000) Minibatch accuracy:     0.97\n",
      "(Step 10000) Minibatch loss:       0.0440\n",
      "(Step 10000) Validation accuracy:    0.96\n",
      "\n"
     ]
    }
   ],
   "source": [
    "TF = two_layer_convnet.model(TF)\n",
    "tester = classification.Tester(images, masks, TF)\n",
    "tester.fit_model()"
   ]
  },
  {
   "cell_type": "markdown",
   "metadata": {},
   "source": [
    "### Query Model"
   ]
  },
  {
   "cell_type": "code",
   "execution_count": 11,
   "metadata": {
    "collapsed": false
   },
   "outputs": [
    {
     "name": "stdout",
     "output_type": "stream",
     "text": [
      "INFO:tensorflow:Restoring parameters from ./checkpoints/New_Build.ckpt\n"
     ]
    }
   ],
   "source": [
    "query_images = images[0:2, :, :, :]\n",
    "query_masks  = masks[0:2, :, :]\n",
    "predictions, query_masks = tester.query_model(query_images, query_masks)"
   ]
  },
  {
   "cell_type": "code",
   "execution_count": 6,
   "metadata": {
    "collapsed": true
   },
   "outputs": [],
   "source": [
    "import matplotlib.pyplot as plt\n",
    "%matplotlib inline"
   ]
  },
  {
   "cell_type": "code",
   "execution_count": 7,
   "metadata": {
    "collapsed": false
   },
   "outputs": [
    {
     "data": {
      "text/plain": [
       "(2, 200, 200)"
      ]
     },
     "execution_count": 7,
     "metadata": {},
     "output_type": "execute_result"
    }
   ],
   "source": [
    "predictions.shape"
   ]
  },
  {
   "cell_type": "code",
   "execution_count": 12,
   "metadata": {
    "collapsed": false
   },
   "outputs": [
    {
     "data": {
      "image/png": "[encoded data removed]",
      "text/plain": [
       "<matplotlib.figure.Figure at 0x109a6438>"
      ]
     },
     "metadata": {},
     "output_type": "display_data"
    }
   ],
   "source": [
    "plt.imshow(masks[0, :, :]);"
   ]
  },
  {
   "cell_type": "code",
   "execution_count": 13,
   "metadata": {
    "collapsed": false
   },
   "outputs": [
    {
     "data": {
      "text/plain": [
       "<matplotlib.image.AxesImage at 0x10a766d8>"
      ]
     },
     "execution_count": 13,
     "metadata": {},
     "output_type": "execute_result"
    },
    {
     "data": {
      "image/png": "[encoded data removed]",
      "text/plain": [
       "<matplotlib.figure.Figure at 0x1093ab00>"
      ]
     },
     "metadata": {},
     "output_type": "display_data"
    }
   ],
   "source": [
    "plt.imshow(predictions[1, :, :])"
   ]
  },
  {
   "cell_type": "code",
   "execution_count": 14,
   "metadata": {
    "collapsed": true
   },
   "outputs": [],
   "source": [
    "import tensorflow as tf"
   ]
  },
  {
   "cell_type": "code",
   "execution_count": 22,
   "metadata": {
    "collapsed": false
   },
   "outputs": [
    {
     "name": "stdout",
     "output_type": "stream",
     "text": [
      "INFO:tensorflow:Restoring parameters from ./checkpoints/New_Build.ckpt\n"
     ]
    },
    {
     "ename": "KeyboardInterrupt",
     "evalue": "",
     "output_type": "error",
     "traceback": [
      "\u001b[1;31m---------------------------------------------------------------------------\u001b[0m",
      "\u001b[1;31mKeyboardInterrupt\u001b[0m                         Traceback (most recent call last)",
      "\u001b[1;32m<ipython-input-22-34ff9025d3ab>\u001b[0m in \u001b[0;36m<module>\u001b[1;34m()\u001b[0m\n\u001b[0;32m      9\u001b[0m         \u001b[0mq_patch\u001b[0m\u001b[1;33m,\u001b[0m \u001b[0mq_label\u001b[0m \u001b[1;33m=\u001b[0m \u001b[0mclassification\u001b[0m\u001b[1;33m.\u001b[0m\u001b[0mget_patches\u001b[0m\u001b[1;33m(\u001b[0m\u001b[0mimages\u001b[0m\u001b[1;33m,\u001b[0m \u001b[0mmasks\u001b[0m\u001b[1;33m,\u001b[0m \u001b[0mix\u001b[0m\u001b[1;33m,\u001b[0m \u001b[0mtester\u001b[0m\u001b[1;33m.\u001b[0m\u001b[0mpatch_size\u001b[0m\u001b[1;33m)\u001b[0m\u001b[1;33m\u001b[0m\u001b[0m\n\u001b[0;32m     10\u001b[0m         \u001b[0mfd\u001b[0m               \u001b[1;33m=\u001b[0m \u001b[1;33m{\u001b[0m\u001b[0mtester\u001b[0m\u001b[1;33m.\u001b[0m\u001b[0mtf_data\u001b[0m\u001b[1;33m:\u001b[0m\u001b[0mq_patch\u001b[0m\u001b[1;33m,\u001b[0m \u001b[0mtester\u001b[0m\u001b[1;33m.\u001b[0m\u001b[0mtf_labels\u001b[0m\u001b[1;33m:\u001b[0m\u001b[0mq_label\u001b[0m\u001b[1;33m}\u001b[0m\u001b[1;33m\u001b[0m\u001b[0m\n\u001b[1;32m---> 11\u001b[1;33m         \u001b[0mpredictions\u001b[0m\u001b[1;33m[\u001b[0m\u001b[0mj\u001b[0m\u001b[1;33m]\u001b[0m   \u001b[1;33m=\u001b[0m \u001b[0msession\u001b[0m\u001b[1;33m.\u001b[0m\u001b[0mrun\u001b[0m\u001b[1;33m(\u001b[0m\u001b[0mtester\u001b[0m\u001b[1;33m.\u001b[0m\u001b[0mtf_predictions\u001b[0m\u001b[1;33m,\u001b[0m \u001b[0mfeed_dict\u001b[0m \u001b[1;33m=\u001b[0m \u001b[0mfd\u001b[0m\u001b[1;33m)\u001b[0m\u001b[1;33m[\u001b[0m\u001b[1;36m0\u001b[0m\u001b[1;33m,\u001b[0m \u001b[1;36m1\u001b[0m\u001b[1;33m]\u001b[0m\u001b[1;33m\u001b[0m\u001b[0m\n\u001b[0m\u001b[0;32m     12\u001b[0m \u001b[1;33m\u001b[0m\u001b[0m\n\u001b[0;32m     13\u001b[0m     \u001b[0mpredictions\u001b[0m \u001b[1;33m=\u001b[0m \u001b[0mpredictions\u001b[0m\u001b[1;33m.\u001b[0m\u001b[0mreshape\u001b[0m\u001b[1;33m(\u001b[0m\u001b[0mmasks\u001b[0m\u001b[1;33m.\u001b[0m\u001b[0mshape\u001b[0m\u001b[1;33m)\u001b[0m\u001b[1;33m\u001b[0m\u001b[0m\n",
      "\u001b[1;32mC:\\Users\\admin\\Anaconda3\\lib\\site-packages\\tensorflow\\python\\client\\session.py\u001b[0m in \u001b[0;36mrun\u001b[1;34m(self, fetches, feed_dict, options, run_metadata)\u001b[0m\n\u001b[0;32m    776\u001b[0m     \u001b[1;32mtry\u001b[0m\u001b[1;33m:\u001b[0m\u001b[1;33m\u001b[0m\u001b[0m\n\u001b[0;32m    777\u001b[0m       result = self._run(None, fetches, feed_dict, options_ptr,\n\u001b[1;32m--> 778\u001b[1;33m                          run_metadata_ptr)\n\u001b[0m\u001b[0;32m    779\u001b[0m       \u001b[1;32mif\u001b[0m \u001b[0mrun_metadata\u001b[0m\u001b[1;33m:\u001b[0m\u001b[1;33m\u001b[0m\u001b[0m\n\u001b[0;32m    780\u001b[0m         \u001b[0mproto_data\u001b[0m \u001b[1;33m=\u001b[0m \u001b[0mtf_session\u001b[0m\u001b[1;33m.\u001b[0m\u001b[0mTF_GetBuffer\u001b[0m\u001b[1;33m(\u001b[0m\u001b[0mrun_metadata_ptr\u001b[0m\u001b[1;33m)\u001b[0m\u001b[1;33m\u001b[0m\u001b[0m\n",
      "\u001b[1;32mC:\\Users\\admin\\Anaconda3\\lib\\site-packages\\tensorflow\\python\\client\\session.py\u001b[0m in \u001b[0;36m_run\u001b[1;34m(self, handle, fetches, feed_dict, options, run_metadata)\u001b[0m\n\u001b[0;32m    980\u001b[0m     \u001b[1;32mif\u001b[0m \u001b[0mfinal_fetches\u001b[0m \u001b[1;32mor\u001b[0m \u001b[0mfinal_targets\u001b[0m\u001b[1;33m:\u001b[0m\u001b[1;33m\u001b[0m\u001b[0m\n\u001b[0;32m    981\u001b[0m       results = self._do_run(handle, final_targets, final_fetches,\n\u001b[1;32m--> 982\u001b[1;33m                              feed_dict_string, options, run_metadata)\n\u001b[0m\u001b[0;32m    983\u001b[0m     \u001b[1;32melse\u001b[0m\u001b[1;33m:\u001b[0m\u001b[1;33m\u001b[0m\u001b[0m\n\u001b[0;32m    984\u001b[0m       \u001b[0mresults\u001b[0m \u001b[1;33m=\u001b[0m \u001b[1;33m[\u001b[0m\u001b[1;33m]\u001b[0m\u001b[1;33m\u001b[0m\u001b[0m\n",
      "\u001b[1;32mC:\\Users\\admin\\Anaconda3\\lib\\site-packages\\tensorflow\\python\\client\\session.py\u001b[0m in \u001b[0;36m_do_run\u001b[1;34m(self, handle, target_list, fetch_list, feed_dict, options, run_metadata)\u001b[0m\n\u001b[0;32m   1030\u001b[0m     \u001b[1;32mif\u001b[0m \u001b[0mhandle\u001b[0m \u001b[1;32mis\u001b[0m \u001b[1;32mNone\u001b[0m\u001b[1;33m:\u001b[0m\u001b[1;33m\u001b[0m\u001b[0m\n\u001b[0;32m   1031\u001b[0m       return self._do_call(_run_fn, self._session, feed_dict, fetch_list,\n\u001b[1;32m-> 1032\u001b[1;33m                            target_list, options, run_metadata)\n\u001b[0m\u001b[0;32m   1033\u001b[0m     \u001b[1;32melse\u001b[0m\u001b[1;33m:\u001b[0m\u001b[1;33m\u001b[0m\u001b[0m\n\u001b[0;32m   1034\u001b[0m       return self._do_call(_prun_fn, self._session, handle, feed_dict,\n",
      "\u001b[1;32mC:\\Users\\admin\\Anaconda3\\lib\\site-packages\\tensorflow\\python\\client\\session.py\u001b[0m in \u001b[0;36m_do_call\u001b[1;34m(self, fn, *args)\u001b[0m\n\u001b[0;32m   1037\u001b[0m   \u001b[1;32mdef\u001b[0m \u001b[0m_do_call\u001b[0m\u001b[1;33m(\u001b[0m\u001b[0mself\u001b[0m\u001b[1;33m,\u001b[0m \u001b[0mfn\u001b[0m\u001b[1;33m,\u001b[0m \u001b[1;33m*\u001b[0m\u001b[0margs\u001b[0m\u001b[1;33m)\u001b[0m\u001b[1;33m:\u001b[0m\u001b[1;33m\u001b[0m\u001b[0m\n\u001b[0;32m   1038\u001b[0m     \u001b[1;32mtry\u001b[0m\u001b[1;33m:\u001b[0m\u001b[1;33m\u001b[0m\u001b[0m\n\u001b[1;32m-> 1039\u001b[1;33m       \u001b[1;32mreturn\u001b[0m \u001b[0mfn\u001b[0m\u001b[1;33m(\u001b[0m\u001b[1;33m*\u001b[0m\u001b[0margs\u001b[0m\u001b[1;33m)\u001b[0m\u001b[1;33m\u001b[0m\u001b[0m\n\u001b[0m\u001b[0;32m   1040\u001b[0m     \u001b[1;32mexcept\u001b[0m \u001b[0merrors\u001b[0m\u001b[1;33m.\u001b[0m\u001b[0mOpError\u001b[0m \u001b[1;32mas\u001b[0m \u001b[0me\u001b[0m\u001b[1;33m:\u001b[0m\u001b[1;33m\u001b[0m\u001b[0m\n\u001b[0;32m   1041\u001b[0m       \u001b[0mmessage\u001b[0m \u001b[1;33m=\u001b[0m \u001b[0mcompat\u001b[0m\u001b[1;33m.\u001b[0m\u001b[0mas_text\u001b[0m\u001b[1;33m(\u001b[0m\u001b[0me\u001b[0m\u001b[1;33m.\u001b[0m\u001b[0mmessage\u001b[0m\u001b[1;33m)\u001b[0m\u001b[1;33m\u001b[0m\u001b[0m\n",
      "\u001b[1;32mC:\\Users\\admin\\Anaconda3\\lib\\site-packages\\tensorflow\\python\\client\\session.py\u001b[0m in \u001b[0;36m_run_fn\u001b[1;34m(session, feed_dict, fetch_list, target_list, options, run_metadata)\u001b[0m\n\u001b[0;32m   1019\u001b[0m         return tf_session.TF_Run(session, options,\n\u001b[0;32m   1020\u001b[0m                                  \u001b[0mfeed_dict\u001b[0m\u001b[1;33m,\u001b[0m \u001b[0mfetch_list\u001b[0m\u001b[1;33m,\u001b[0m \u001b[0mtarget_list\u001b[0m\u001b[1;33m,\u001b[0m\u001b[1;33m\u001b[0m\u001b[0m\n\u001b[1;32m-> 1021\u001b[1;33m                                  status, run_metadata)\n\u001b[0m\u001b[0;32m   1022\u001b[0m \u001b[1;33m\u001b[0m\u001b[0m\n\u001b[0;32m   1023\u001b[0m     \u001b[1;32mdef\u001b[0m \u001b[0m_prun_fn\u001b[0m\u001b[1;33m(\u001b[0m\u001b[0msession\u001b[0m\u001b[1;33m,\u001b[0m \u001b[0mhandle\u001b[0m\u001b[1;33m,\u001b[0m \u001b[0mfeed_dict\u001b[0m\u001b[1;33m,\u001b[0m \u001b[0mfetch_list\u001b[0m\u001b[1;33m)\u001b[0m\u001b[1;33m:\u001b[0m\u001b[1;33m\u001b[0m\u001b[0m\n",
      "\u001b[1;31mKeyboardInterrupt\u001b[0m: "
     ]
    }
   ],
   "source": [
    "with tf.Session(graph = tester.tf_graph) as session:\n",
    "\n",
    "    tester.tf_saver.restore(session, './checkpoints/'+tester.test_id+'.ckpt')\n",
    "\n",
    "    predictions = np.zeros_like(images, dtype = 'float32').flatten()\n",
    "\n",
    "    for j, ix in enumerate(np.array(np.nonzero(np.ones_like(masks))).T):\n",
    "        ix               = np.array([ix])\n",
    "        q_patch, q_label = classification.get_patches(images, masks, ix, tester.patch_size)\n",
    "        fd               = {tester.tf_data:q_patch, tester.tf_labels:q_label}\n",
    "        predictions[j]   = session.run(tester.tf_predictions, feed_dict = fd)[0, 1]\n",
    "\n",
    "    predictions = predictions.reshape(masks.shape)"
   ]
  },
  {
   "cell_type": "code",
   "execution_count": 80,
   "metadata": {
    "collapsed": false
   },
   "outputs": [
    {
     "data": {
      "image/png": "[encoded data removed]",
      "text/plain": [
       "<matplotlib.figure.Figure at 0x127937f0>"
      ]
     },
     "metadata": {},
     "output_type": "display_data"
    }
   ],
   "source": [
    "plt.imshow(predictions.reshape(masks.shape)[3,:,:], cmap = 'hot');"
   ]
  },
  {
   "cell_type": "code",
   "execution_count": 81,
   "metadata": {
    "collapsed": false
   },
   "outputs": [
    {
     "data": {
      "image/png": "[encoded data removed]",
      "text/plain": [
       "<matplotlib.figure.Figure at 0x127d04e0>"
      ]
     },
     "metadata": {},
     "output_type": "display_data"
    }
   ],
   "source": [
    "plt.imshow(images[3, :, :, 0], cmap = 'hot');"
   ]
  },
  {
   "cell_type": "code",
   "execution_count": null,
   "metadata": {
    "collapsed": true
   },
   "outputs": [],
   "source": []
  }
 ],
 "metadata": {
  "kernelspec": {
   "display_name": "Python [Root]",
   "language": "python",
   "name": "Python [Root]"
  },
  "language_info": {
   "codemirror_mode": {
    "name": "ipython",
    "version": 3
   },
   "file_extension": ".py",
   "mimetype": "text/x-python",
   "name": "python",
   "nbconvert_exporter": "python",
   "pygments_lexer": "ipython3",
   "version": "3.5.2"
  }
 },
 "nbformat": 4,
 "nbformat_minor": 0
}
