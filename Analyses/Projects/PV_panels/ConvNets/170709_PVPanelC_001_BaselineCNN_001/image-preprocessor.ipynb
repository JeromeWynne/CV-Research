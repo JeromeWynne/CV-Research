{
 "cells": [
  {
   "cell_type": "code",
   "execution_count": 4,
   "metadata": {
    "collapsed": true
   },
   "outputs": [],
   "source": [
    "import tensorflow as tf\n",
    "import numpy as np\n",
    "from scipy.misc import imread\n",
    "from glob import glob"
   ]
  },
  {
   "cell_type": "code",
   "execution_count": 2,
   "metadata": {
    "collapsed": true
   },
   "outputs": [],
   "source": [
    "# Programme structure\n",
    "#---------------------\n",
    "# 1. Import binary masks and images.\n",
    "# 2. Get indices of pixels corresponding to cracks.\n",
    "# 3. Define a KxK kernel.\n",
    "# 4. Extract KxK windows of pixels centered on the crack pixels that satisfy:\n",
    "#          4 * # Crack px. > # Nocrack px.\n",
    "# 5. The number of 'crack' windows is m.\n",
    "# 6. Sample m nocrack windows: take the range \n",
    "#              [0 + r, image_size - r, m/52]\n",
    "#    where r is a random integer less than 20. Test the indices gathered.\n",
    "#    If a window fails, increment one of the indices until it succeeds (captures 'edge' cases).\n",
    "# 7. Assign the windows unique IDs and one-hot encoded labels.\n",
    "# 8. Split the data into training, testing, and validation sets.\n",
    "# 9. Pickle these sets to the EBS storage (mount it first!)."
   ]
  },
  {
   "cell_type": "code",
   "execution_count": 17,
   "metadata": {},
   "outputs": [
    {
     "data": {
      "text/plain": [
       "['../data/resized-images/1af4bc809e62448ba30027ef44511aab.png',\n",
       " '../data/resized-images/36b514c630794cd3985939ccf1b435c1.png',\n",
       " '../data/resized-images/ec3bb4d3f0dd49368043da7ead8b46a4.png',\n",
       " '../data/resized-images/c38e3a8a599f484bb38522a2c54ae404.png',\n",
       " '../data/resized-images/80c3862bef00485a9b53ead2a0fe53c8.png',\n",
       " '../data/resized-images/bbe8de90e90841fe9273f50ce465cccf.png',\n",
       " '../data/resized-images/fcec577dac144befba2c780b72ffba8e.png',\n",
       " '../data/resized-images/cc8ef57d81e04fe59323787293717614.png',\n",
       " '../data/resized-images/073fa7b593934a1b89f42a8dcf558f58.png',\n",
       " '../data/resized-images/5940d514430b4315b73a085d9944fb4e.png',\n",
       " '../data/resized-images/8acbc8f3e1c9451d9210a769a8e214e9.png',\n",
       " '../data/resized-images/a1a2e1d43c9c4113b761f0d1c93f1957.png',\n",
       " '../data/resized-images/e2c25570d80c4cfa81217c79efc30712.png',\n",
       " '../data/resized-images/7c169cb4c83940378105b914448a4e1f.png',\n",
       " '../data/resized-images/2e451f2c830748859157234169b7893f.png',\n",
       " '../data/resized-images/ee04df9061cf4618ae6aef83778a7443.png',\n",
       " '../data/resized-images/7a3625af975c4283a42363a459604de0.png',\n",
       " '../data/resized-images/ad3481805833491c89ed6c1fecf27437.png',\n",
       " '../data/resized-images/2d1d291b32af49d39f3416cac18cc3f9.png',\n",
       " '../data/resized-images/9e33233bfbee41fb9377ed4d782d2c94.png',\n",
       " '../data/resized-images/f24b72ca35aa4c6483db7845a5ba0bf3.png',\n",
       " '../data/resized-images/3d3da2cd90e1449b9a5152bc84956a33.png',\n",
       " '../data/resized-images/2e6cbe4da3c2453f9583158a59bd477b.png',\n",
       " '../data/resized-images/f905c740d5f8458286b266dfd1b6f25b.png',\n",
       " '../data/resized-images/e40e48bcacc34e57add33599d0bf87d0.png',\n",
       " '../data/resized-images/24186ba9cbd646bc988e6c43b318f032.png',\n",
       " '../data/resized-images/2123e62ec50d4c2eadcee421e623aae7.png',\n",
       " '../data/resized-images/3815e51ae5e549a1bf975111430d560e.png',\n",
       " '../data/resized-images/0b2dc162277c43a0ae7bc97ce419d7c8.png',\n",
       " '../data/resized-images/fa259ff076954faca1fd63f6a6e7b30a.png',\n",
       " '../data/resized-images/a97a9ea2f97042d083abe17263ddd4b1.png',\n",
       " '../data/resized-images/182654504ccb44f78501fdafa9891743.png',\n",
       " '../data/resized-images/9f8e63da23e64789b3b2e6b7fa86f134.png',\n",
       " '../data/resized-images/5fcb78619e5642d4a84301911823c468.png',\n",
       " '../data/resized-images/93004e61bf714581ac558352c654229c.png',\n",
       " '../data/resized-images/3c48b5b2b31d440091fb01a78c382642.png',\n",
       " '../data/resized-images/effeb6d3c21a46f6b1c6c10c94f8cdd4.png',\n",
       " '../data/resized-images/78ec6b5b58ef40bd8989275bac6b742a.png',\n",
       " '../data/resized-images/6479d0169b4245588f1d0c74bd61bbe2.png',\n",
       " '../data/resized-images/019c743734bb466896edfc490e837a67.png',\n",
       " '../data/resized-images/664cac7d87364690ab2355b69d0318cc.png',\n",
       " '../data/resized-images/3efcd88ed64b4908bbe55f015497a7a2.png',\n",
       " '../data/resized-images/841e78198a9f4321a9f7b684e8d9d2ef.png',\n",
       " '../data/resized-images/d12297d0bf114a448bb6646eabeac08a.png',\n",
       " '../data/resized-images/0baeceeba5d1435a8269c0eacc72888d.png',\n",
       " '../data/resized-images/647ab957781247c98708676a8fe019e9.png',\n",
       " '../data/resized-images/74dfaa8fccbc400b9e64fb61b76b6e30.png',\n",
       " '../data/resized-images/c7054fcf32b14cc7ab051bb89ee3dcab.png',\n",
       " '../data/resized-images/d9f1e0063eb840c8893891e78c95da47.png',\n",
       " '../data/resized-images/73cac1c45ff74da7aa2ef44cabb4baa8.png',\n",
       " '../data/resized-images/7fba3ef6377944bdbf4aadec65b3eeb8.png',\n",
       " '../data/resized-images/af80a23bcd8d4d7487e776d4e2da846a.png']"
      ]
     },
     "execution_count": 17,
     "metadata": {},
     "output_type": "execute_result"
    }
   ],
   "source": [
    "images = glob('../data/resized-images/*.png')\n",
    "masks  = glob('../data')"
   ]
  },
  {
   "cell_type": "code",
   "execution_count": null,
   "metadata": {
    "collapsed": true
   },
   "outputs": [],
   "source": [
    "# 1. Import binary masks and images.\n",
    "images = np.array([imread(im)])"
   ]
  }
 ],
 "metadata": {
  "kernelspec": {
   "display_name": "Python 3",
   "language": "python",
   "name": "python3"
  },
  "language_info": {
   "codemirror_mode": {
    "name": "ipython",
    "version": 3
   },
   "file_extension": ".py",
   "mimetype": "text/x-python",
   "name": "python",
   "nbconvert_exporter": "python",
   "pygments_lexer": "ipython3",
   "version": "3.6.1"
  }
 },
 "nbformat": 4,
 "nbformat_minor": 2
}
